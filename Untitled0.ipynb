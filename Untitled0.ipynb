{
  "nbformat": 4,
  "nbformat_minor": 0,
  "metadata": {
    "colab": {
      "name": "Untitled0.ipynb",
      "provenance": [],
      "collapsed_sections": [],
      "include_colab_link": true
    },
    "kernelspec": {
      "name": "python3",
      "display_name": "Python 3"
    }
  },
  "cells": [
    {
      "cell_type": "markdown",
      "metadata": {
        "id": "view-in-github",
        "colab_type": "text"
      },
      "source": [
        "<a href=\"https://colab.research.google.com/github/onlookertozip/Day20180528/blob/master/Untitled0.ipynb\" target=\"_parent\"><img src=\"https://colab.research.google.com/assets/colab-badge.svg\" alt=\"Open In Colab\"/></a>"
      ]
    },
    {
      "cell_type": "code",
      "metadata": {
        "id": "vHr4QB3qCfP-",
        "colab_type": "code",
        "colab": {}
      },
      "source": [
        "import numpy as np"
      ],
      "execution_count": 0,
      "outputs": []
    },
    {
      "cell_type": "code",
      "metadata": {
        "id": "vDVVD-IzHqCO",
        "colab_type": "code",
        "colab": {}
      },
      "source": [
        "import pandas as pd"
      ],
      "execution_count": 0,
      "outputs": []
    },
    {
      "cell_type": "code",
      "metadata": {
        "id": "8FwelxrMHvAc",
        "colab_type": "code",
        "colab": {}
      },
      "source": [
        "import matplotlib.pyplot as plt"
      ],
      "execution_count": 0,
      "outputs": []
    },
    {
      "cell_type": "code",
      "metadata": {
        "id": "5Yqhk2JBaohf",
        "colab_type": "code",
        "colab": {}
      },
      "source": [
        "import seaborn as sns"
      ],
      "execution_count": 0,
      "outputs": []
    },
    {
      "cell_type": "code",
      "metadata": {
        "id": "zBJGOsOraqJa",
        "colab_type": "code",
        "colab": {}
      },
      "source": [
        "plt.rcParams['figure.figsize'] = [10, 6]"
      ],
      "execution_count": 0,
      "outputs": []
    },
    {
      "cell_type": "code",
      "metadata": {
        "id": "UmwozoYHasAF",
        "colab_type": "code",
        "colab": {}
      },
      "source": [
        "tips = sns.load_dataset('tips')"
      ],
      "execution_count": 0,
      "outputs": []
    },
    {
      "cell_type": "code",
      "metadata": {
        "id": "EdeqnCa5auRX",
        "colab_type": "code",
        "colab": {
          "base_uri": "https://localhost:8080/",
          "height": 35
        },
        "outputId": "cd8cc81e-8483-4e58-f9ad-5c5f2300edeb"
      },
      "source": [
        "tips.shape"
      ],
      "execution_count": 7,
      "outputs": [
        {
          "output_type": "execute_result",
          "data": {
            "text/plain": [
              "(244, 7)"
            ]
          },
          "metadata": {
            "tags": []
          },
          "execution_count": 7
        }
      ]
    },
    {
      "cell_type": "code",
      "metadata": {
        "id": "9OkoYHHdaw1w",
        "colab_type": "code",
        "colab": {
          "base_uri": "https://localhost:8080/",
          "height": 194
        },
        "outputId": "3d51fe9d-7e63-44fb-cd0f-7eb3de05d645"
      },
      "source": [
        "tips.head()"
      ],
      "execution_count": 8,
      "outputs": [
        {
          "output_type": "execute_result",
          "data": {
            "text/html": [
              "<div>\n",
              "<style scoped>\n",
              "    .dataframe tbody tr th:only-of-type {\n",
              "        vertical-align: middle;\n",
              "    }\n",
              "\n",
              "    .dataframe tbody tr th {\n",
              "        vertical-align: top;\n",
              "    }\n",
              "\n",
              "    .dataframe thead th {\n",
              "        text-align: right;\n",
              "    }\n",
              "</style>\n",
              "<table border=\"1\" class=\"dataframe\">\n",
              "  <thead>\n",
              "    <tr style=\"text-align: right;\">\n",
              "      <th></th>\n",
              "      <th>total_bill</th>\n",
              "      <th>tip</th>\n",
              "      <th>sex</th>\n",
              "      <th>smoker</th>\n",
              "      <th>day</th>\n",
              "      <th>time</th>\n",
              "      <th>size</th>\n",
              "    </tr>\n",
              "  </thead>\n",
              "  <tbody>\n",
              "    <tr>\n",
              "      <th>0</th>\n",
              "      <td>16.99</td>\n",
              "      <td>1.01</td>\n",
              "      <td>Female</td>\n",
              "      <td>No</td>\n",
              "      <td>Sun</td>\n",
              "      <td>Dinner</td>\n",
              "      <td>2</td>\n",
              "    </tr>\n",
              "    <tr>\n",
              "      <th>1</th>\n",
              "      <td>10.34</td>\n",
              "      <td>1.66</td>\n",
              "      <td>Male</td>\n",
              "      <td>No</td>\n",
              "      <td>Sun</td>\n",
              "      <td>Dinner</td>\n",
              "      <td>3</td>\n",
              "    </tr>\n",
              "    <tr>\n",
              "      <th>2</th>\n",
              "      <td>21.01</td>\n",
              "      <td>3.50</td>\n",
              "      <td>Male</td>\n",
              "      <td>No</td>\n",
              "      <td>Sun</td>\n",
              "      <td>Dinner</td>\n",
              "      <td>3</td>\n",
              "    </tr>\n",
              "    <tr>\n",
              "      <th>3</th>\n",
              "      <td>23.68</td>\n",
              "      <td>3.31</td>\n",
              "      <td>Male</td>\n",
              "      <td>No</td>\n",
              "      <td>Sun</td>\n",
              "      <td>Dinner</td>\n",
              "      <td>2</td>\n",
              "    </tr>\n",
              "    <tr>\n",
              "      <th>4</th>\n",
              "      <td>24.59</td>\n",
              "      <td>3.61</td>\n",
              "      <td>Female</td>\n",
              "      <td>No</td>\n",
              "      <td>Sun</td>\n",
              "      <td>Dinner</td>\n",
              "      <td>4</td>\n",
              "    </tr>\n",
              "  </tbody>\n",
              "</table>\n",
              "</div>"
            ],
            "text/plain": [
              "   total_bill   tip     sex smoker  day    time  size\n",
              "0       16.99  1.01  Female     No  Sun  Dinner     2\n",
              "1       10.34  1.66    Male     No  Sun  Dinner     3\n",
              "2       21.01  3.50    Male     No  Sun  Dinner     3\n",
              "3       23.68  3.31    Male     No  Sun  Dinner     2\n",
              "4       24.59  3.61  Female     No  Sun  Dinner     4"
            ]
          },
          "metadata": {
            "tags": []
          },
          "execution_count": 8
        }
      ]
    },
    {
      "cell_type": "code",
      "metadata": {
        "id": "Bs81z3K4aznN",
        "colab_type": "code",
        "colab": {}
      },
      "source": [
        "tips_sum_by_day = tips.groupby('day').tip.sum()"
      ],
      "execution_count": 0,
      "outputs": []
    },
    {
      "cell_type": "code",
      "metadata": {
        "id": "H8y62QwCdfDN",
        "colab_type": "code",
        "colab": {
          "base_uri": "https://localhost:8080/",
          "height": 124
        },
        "outputId": "e8407b97-428d-453a-f396-039a2a1fbf85"
      },
      "source": [
        "tips_sum_by_day"
      ],
      "execution_count": 10,
      "outputs": [
        {
          "output_type": "execute_result",
          "data": {
            "text/plain": [
              "day\n",
              "Thur    171.83\n",
              "Fri      51.96\n",
              "Sat     260.40\n",
              "Sun     247.39\n",
              "Name: tip, dtype: float64"
            ]
          },
          "metadata": {
            "tags": []
          },
          "execution_count": 10
        }
      ]
    },
    {
      "cell_type": "code",
      "metadata": {
        "id": "OnE0DbwIdi5A",
        "colab_type": "code",
        "colab": {}
      },
      "source": [
        "label = ['Thur', 'Fri', 'Sat', 'Sun']"
      ],
      "execution_count": 0,
      "outputs": []
    },
    {
      "cell_type": "code",
      "metadata": {
        "id": "l2u4X3LEdrSJ",
        "colab_type": "code",
        "colab": {}
      },
      "source": [
        "index = np.arange(len(label))"
      ],
      "execution_count": 0,
      "outputs": []
    },
    {
      "cell_type": "code",
      "metadata": {
        "id": "DAYhrcHwdtRq",
        "colab_type": "code",
        "colab": {
          "base_uri": "https://localhost:8080/",
          "height": 422
        },
        "outputId": "8f0c95c9-77f4-4696-e70a-4cf11fee84a1"
      },
      "source": [
        "plt.bar(index, tips_sum_by_day)\n",
        "\n",
        "plt.title('Sum of Tips by Day', fontsize=20)\n",
        "\n",
        "plt.xlabel('Day', fontsize=18)\n",
        "\n",
        "plt.ylabel('Sum of Tips', fontsize=18)\n",
        "\n",
        "plt.xticks(index, label, fontsize=15)\n",
        "\n",
        "plt.show()"
      ],
      "execution_count": 13,
      "outputs": [
        {
          "output_type": "display_data",
          "data": {
            "image/png": "[encoded data removed]",
            "text/plain": [
              "<Figure size 720x432 with 1 Axes>"
            ]
          },
          "metadata": {
            "tags": []
          }
        }
      ]
    },
    {
      "cell_type": "code",
      "metadata": {
        "id": "wpuCNE_edxzl",
        "colab_type": "code",
        "colab": {
          "base_uri": "https://localhost:8080/",
          "height": 374
        },
        "outputId": "88b8599c-51d2-4f7c-af73-6e2bd02a9ea7"
      },
      "source": [
        "plt.bar(label, tips_sum_by_day, \n",
        "\n",
        "        color='red', # color\n",
        "\n",
        "        alpha=0.5) # transparency\n",
        "\n",
        "plt.show()"
      ],
      "execution_count": 14,
      "outputs": [
        {
          "output_type": "display_data",
          "data": {
            "image/png": "[encoded data removed]",
            "text/plain": [
              "<Figure size 720x432 with 1 Axes>"
            ]
          },
          "metadata": {
            "tags": []
          }
        }
      ]
    },
    {
      "cell_type": "code",
      "metadata": {
        "id": "Ys-re1dBLgXN",
        "colab_type": "code",
        "colab": {
          "base_uri": "https://localhost:8080/",
          "height": 374
        },
        "outputId": "afe77d1f-9139-4254-d776-1cfae74525c6"
      },
      "source": [
        "plt.bar(label, tips_sum_by_day, \n",
        "\n",
        "        width=0.5, # default: 0.8\n",
        "\n",
        "        align='edge') # default: 'center'\n",
        "\n",
        "plt.show()"
      ],
      "execution_count": 15,
      "outputs": [
        {
          "output_type": "display_data",
          "data": {
            "image/png": "[encoded data removed]",
            "text/plain": [
              "<Figure size 720x432 with 1 Axes>"
            ]
          },
          "metadata": {
            "tags": []
          }
        }
      ]
    },
    {
      "cell_type": "code",
      "metadata": {
        "id": "VYAMIOXkL5HB",
        "colab_type": "code",
        "colab": {
          "base_uri": "https://localhost:8080/",
          "height": 421
        },
        "outputId": "02d0c802-a124-4bc1-d65e-c619a99877e2"
      },
      "source": [
        "plt.bar(index, tips_sum_by_day)\n",
        "\n",
        "plt.xlabel('Day', fontsize=18)\n",
        "\n",
        "plt.xticks(index, label, fontsize=15, \n",
        "\n",
        "           rotation=90) # when X tick labels are long\n",
        "\n",
        "plt.show()"
      ],
      "execution_count": 16,
      "outputs": [
        {
          "output_type": "display_data",
          "data": {
            "image/png": "[encoded data removed]",
            "text/plain": [
              "<Figure size 720x432 with 1 Axes>"
            ]
          },
          "metadata": {
            "tags": []
          }
        }
      ]
    },
    {
      "cell_type": "code",
      "metadata": {
        "id": "ECv63GnaMVrK",
        "colab_type": "code",
        "colab": {
          "base_uri": "https://localhost:8080/",
          "height": 413
        },
        "outputId": "a4c5800d-6afa-4204-ec21-6074c388bc24"
      },
      "source": [
        "plt.barh(index, tips_sum_by_day)\n",
        "\n",
        "plt.title('Sum of Tips by Day', fontsize=18)\n",
        "\n",
        "plt.ylabel('Day', fontsize=15)\n",
        "\n",
        "plt.xlabel('Sum of Tips', fontsize=15)\n",
        "\n",
        "plt.yticks(index, label, fontsize=13, rotation=0)\n",
        "\n",
        "plt.show()"
      ],
      "execution_count": 17,
      "outputs": [
        {
          "output_type": "display_data",
          "data": {
            "image/png": "[encoded data removed]",
            "text/plain": [
              "<Figure size 720x432 with 1 Axes>"
            ]
          },
          "metadata": {
            "tags": []
          }
        }
      ]
    },
    {
      "cell_type": "code",
      "metadata": {
        "id": "qVkKcMYvMkKa",
        "colab_type": "code",
        "colab": {
          "base_uri": "https://localhost:8080/",
          "height": 284
        },
        "outputId": "d66240ce-4a99-4483-81a1-fbc08badc970"
      },
      "source": [
        "tips_sum_by_day_male = tips[tips['sex'] == 'Male'].groupby('day').tip.sum()\n",
        "\n",
        "tips_sum_by_day_female = tips[tips['sex'] == 'Female'].groupby('day').tip.sum()\n",
        "\n",
        "\n",
        "\n",
        "print('--Male--')\n",
        "\n",
        "print(tips_sum_by_day_male);\n",
        "\n",
        "print(' ')\n",
        "\n",
        "print('--Female--')\n",
        "\n",
        "print(tips_sum_by_day_female);"
      ],
      "execution_count": 31,
      "outputs": [
        {
          "output_type": "stream",
          "text": [
            "--Male--\n",
            "day\n",
            "Thur     89.41\n",
            "Fri      26.93\n",
            "Sat     181.95\n",
            "Sun     186.78\n",
            "Name: tip, dtype: float64\n",
            " \n",
            "--Female--\n",
            "day\n",
            "Thur    82.42\n",
            "Fri     25.03\n",
            "Sat     78.45\n",
            "Sun     60.61\n",
            "Name: tip, dtype: float64\n"
          ],
          "name": "stdout"
        }
      ]
    },
    {
      "cell_type": "code",
      "metadata": {
        "id": "5Q0eciFoNCvR",
        "colab_type": "code",
        "colab": {
          "base_uri": "https://localhost:8080/",
          "height": 422
        },
        "outputId": "818d4f74-c370-4bc7-8af3-d86123d5cbc8"
      },
      "source": [
        "label = ['Thur', 'Fri', 'Sat', 'Sun']\n",
        "\n",
        "N = len(tips['day'].unique())\n",
        "\n",
        "index = np.arange(N)\n",
        "\n",
        "alpha = 0.5\n",
        "\n",
        "\n",
        "\n",
        "p1 = plt.bar(index, tips_sum_by_day_male, color='b', alpha=alpha)\n",
        "\n",
        "p2 = plt.bar(index, tips_sum_by_day_female, color='r', alpha=alpha,\n",
        "\n",
        "             bottom=tips_sum_by_day_male) # stacked bar chart\n",
        "\n",
        "plt.title('Stacked Bar Chart of Sum of Tips by Day & ', fontsize=20)\n",
        "\n",
        "plt.ylabel('Sum of Tips', fontsize=18)\n",
        "\n",
        "plt.xlabel('Day', fontsize=18)\n",
        "\n",
        "plt.xticks(index, label, fontsize=15)\n",
        "\n",
        "plt.legend((p1[0], p2[0]), ('Male', 'Female'), fontsize=15)\n",
        "\n",
        "plt.show()"
      ],
      "execution_count": 20,
      "outputs": [
        {
          "output_type": "display_data",
          "data": {
            "image/png": "[encoded data removed]",
            "text/plain": [
              "<Figure size 720x432 with 1 Axes>"
            ]
          },
          "metadata": {
            "tags": []
          }
        }
      ]
    },
    {
      "cell_type": "code",
      "metadata": {
        "id": "juCedln5NSZp",
        "colab_type": "code",
        "colab": {
          "base_uri": "https://localhost:8080/",
          "height": 422
        },
        "outputId": "e9efdeb0-9cd2-4d33-dfae-0348bb97b0bd"
      },
      "source": [
        "bar_width = 0.35\n",
        "\n",
        "alpha = 0.5\n",
        "\n",
        "\n",
        "\n",
        "p1 = plt.bar(index, tips_sum_by_day_male, \n",
        "\n",
        "             bar_width, \n",
        "\n",
        "             color='b', \n",
        "\n",
        "             alpha=alpha,\n",
        "\n",
        "             label='Male')\n",
        "\n",
        "p2 = plt.bar(index + bar_width, tips_sum_by_day_female, \n",
        "\n",
        "             bar_width, \n",
        "\n",
        "             color='r', \n",
        "\n",
        "             alpha=alpha,\n",
        "\n",
        "             label='Female')\n",
        "\n",
        "\n",
        "\n",
        "plt.title('Dodged Bar Chart of Sum of Tips by Day & Gender', fontsize=20)\n",
        "\n",
        "plt.ylabel('Sum of Tips', fontsize=18)\n",
        "\n",
        "plt.xlabel('Day', fontsize=18)\n",
        "\n",
        "plt.xticks(index, label, fontsize=15)\n",
        "\n",
        "plt.legend((p1[0], p2[0]), ('Male', 'Female'), fontsize=15)\n",
        "\n",
        "plt.show()"
      ],
      "execution_count": 22,
      "outputs": [
        {
          "output_type": "display_data",
          "data": {
            "image/png": "[encoded data removed]",
            "text/plain": [
              "<Figure size 720x432 with 1 Axes>"
            ]
          },
          "metadata": {
            "tags": []
          }
        }
      ]
    },
    {
      "cell_type": "code",
      "metadata": {
        "id": "TwTI7CNCOK_5",
        "colab_type": "code",
        "colab": {
          "base_uri": "https://localhost:8080/",
          "height": 282
        },
        "outputId": "f500cccb-0b9e-4f6c-8ce8-a771bed7dbfa"
      },
      "source": [
        "tips_sum_by_day_sex = pd.DataFrame(tips.groupby(['day', 'sex']).tip.sum())\n",
        "\n",
        "tips_sum_by_day_sex = tips_sum_by_day_sex.reset_index()\n",
        "\n",
        "tips_sum_by_day_sex"
      ],
      "execution_count": 29,
      "outputs": [
        {
          "output_type": "execute_result",
          "data": {
            "text/html": [
              "<div>\n",
              "<style scoped>\n",
              "    .dataframe tbody tr th:only-of-type {\n",
              "        vertical-align: middle;\n",
              "    }\n",
              "\n",
              "    .dataframe tbody tr th {\n",
              "        vertical-align: top;\n",
              "    }\n",
              "\n",
              "    .dataframe thead th {\n",
              "        text-align: right;\n",
              "    }\n",
              "</style>\n",
              "<table border=\"1\" class=\"dataframe\">\n",
              "  <thead>\n",
              "    <tr style=\"text-align: right;\">\n",
              "      <th></th>\n",
              "      <th>day</th>\n",
              "      <th>sex</th>\n",
              "      <th>tip</th>\n",
              "    </tr>\n",
              "  </thead>\n",
              "  <tbody>\n",
              "    <tr>\n",
              "      <th>0</th>\n",
              "      <td>Thur</td>\n",
              "      <td>Male</td>\n",
              "      <td>89.41</td>\n",
              "    </tr>\n",
              "    <tr>\n",
              "      <th>1</th>\n",
              "      <td>Thur</td>\n",
              "      <td>Female</td>\n",
              "      <td>82.42</td>\n",
              "    </tr>\n",
              "    <tr>\n",
              "      <th>2</th>\n",
              "      <td>Fri</td>\n",
              "      <td>Male</td>\n",
              "      <td>26.93</td>\n",
              "    </tr>\n",
              "    <tr>\n",
              "      <th>3</th>\n",
              "      <td>Fri</td>\n",
              "      <td>Female</td>\n",
              "      <td>25.03</td>\n",
              "    </tr>\n",
              "    <tr>\n",
              "      <th>4</th>\n",
              "      <td>Sat</td>\n",
              "      <td>Male</td>\n",
              "      <td>181.95</td>\n",
              "    </tr>\n",
              "    <tr>\n",
              "      <th>5</th>\n",
              "      <td>Sat</td>\n",
              "      <td>Female</td>\n",
              "      <td>78.45</td>\n",
              "    </tr>\n",
              "    <tr>\n",
              "      <th>6</th>\n",
              "      <td>Sun</td>\n",
              "      <td>Male</td>\n",
              "      <td>186.78</td>\n",
              "    </tr>\n",
              "    <tr>\n",
              "      <th>7</th>\n",
              "      <td>Sun</td>\n",
              "      <td>Female</td>\n",
              "      <td>60.61</td>\n",
              "    </tr>\n",
              "  </tbody>\n",
              "</table>\n",
              "</div>"
            ],
            "text/plain": [
              "    day     sex     tip\n",
              "0  Thur    Male   89.41\n",
              "1  Thur  Female   82.42\n",
              "2   Fri    Male   26.93\n",
              "3   Fri  Female   25.03\n",
              "4   Sat    Male  181.95\n",
              "5   Sat  Female   78.45\n",
              "6   Sun    Male  186.78\n",
              "7   Sun  Female   60.61"
            ]
          },
          "metadata": {
            "tags": []
          },
          "execution_count": 29
        }
      ]
    },
    {
      "cell_type": "code",
      "metadata": {
        "id": "F74Ou6xfPrpa",
        "colab_type": "code",
        "colab": {
          "base_uri": "https://localhost:8080/",
          "height": 409
        },
        "outputId": "b082243c-cfa1-444f-f2cb-28a4598fe93d"
      },
      "source": [
        "sns.barplot(x='day', y='tip', hue='sex', data=tips_sum_by_day_sex, \n",
        "\n",
        "           dodge=False) # stacked bar chart\n",
        "\n",
        "plt.title('Stacked Bar Chart by Seaborn', fontsize='20')\n",
        "\n",
        "plt.show()"
      ],
      "execution_count": 34,
      "outputs": [
        {
          "output_type": "display_data",
          "data": {
            "image/png": "[encoded data removed]",
            "text/plain": [
              "<Figure size 720x432 with 1 Axes>"
            ]
          },
          "metadata": {
            "tags": []
          }
        }
      ]
    },
    {
      "cell_type": "code",
      "metadata": {
        "id": "R9OouV-SSCFk",
        "colab_type": "code",
        "colab": {
          "base_uri": "https://localhost:8080/",
          "height": 409
        },
        "outputId": "500cc690-c503-4e6c-e5a2-4fa88e51ad03"
      },
      "source": [
        "sns.barplot(x='day', y='tip', hue='sex', data=tips_sum_by_day_sex) # default : dodge=True\n",
        "\n",
        "plt.title('Dodged Bar Chart by Seaborn', fontsize=20)\n",
        "\n",
        "plt.legend(fontsize=12)\n",
        "\n",
        "plt.show()"
      ],
      "execution_count": 35,
      "outputs": [
        {
          "output_type": "display_data",
          "data": {
            "image/png": "[encoded data removed]",
            "text/plain": [
              "<Figure size 720x432 with 1 Axes>"
            ]
          },
          "metadata": {
            "tags": []
          }
        }
      ]
    },
    {
      "cell_type": "code",
      "metadata": {
        "id": "6-QwUGqmSYnU",
        "colab_type": "code",
        "colab": {
          "base_uri": "https://localhost:8080/",
          "height": 164
        },
        "outputId": "f4258f6c-259b-4364-b90d-940529ebee33"
      },
      "source": [
        "tips_sum_by_day = pd.DataFrame(tips.groupby('day').tip.sum())\n",
        "\n",
        "tips_sum_by_day = tips_sum_by_day.reset_index()\n",
        "\n",
        "tips_sum_by_day"
      ],
      "execution_count": 38,
      "outputs": [
        {
          "output_type": "execute_result",
          "data": {
            "text/html": [
              "<div>\n",
              "<style scoped>\n",
              "    .dataframe tbody tr th:only-of-type {\n",
              "        vertical-align: middle;\n",
              "    }\n",
              "\n",
              "    .dataframe tbody tr th {\n",
              "        vertical-align: top;\n",
              "    }\n",
              "\n",
              "    .dataframe thead th {\n",
              "        text-align: right;\n",
              "    }\n",
              "</style>\n",
              "<table border=\"1\" class=\"dataframe\">\n",
              "  <thead>\n",
              "    <tr style=\"text-align: right;\">\n",
              "      <th></th>\n",
              "      <th>day</th>\n",
              "      <th>tip</th>\n",
              "    </tr>\n",
              "  </thead>\n",
              "  <tbody>\n",
              "    <tr>\n",
              "      <th>0</th>\n",
              "      <td>Thur</td>\n",
              "      <td>171.83</td>\n",
              "    </tr>\n",
              "    <tr>\n",
              "      <th>1</th>\n",
              "      <td>Fri</td>\n",
              "      <td>51.96</td>\n",
              "    </tr>\n",
              "    <tr>\n",
              "      <th>2</th>\n",
              "      <td>Sat</td>\n",
              "      <td>260.40</td>\n",
              "    </tr>\n",
              "    <tr>\n",
              "      <th>3</th>\n",
              "      <td>Sun</td>\n",
              "      <td>247.39</td>\n",
              "    </tr>\n",
              "  </tbody>\n",
              "</table>\n",
              "</div>"
            ],
            "text/plain": [
              "    day     tip\n",
              "0  Thur  171.83\n",
              "1   Fri   51.96\n",
              "2   Sat  260.40\n",
              "3   Sun  247.39"
            ]
          },
          "metadata": {
            "tags": []
          },
          "execution_count": 38
        }
      ]
    },
    {
      "cell_type": "code",
      "metadata": {
        "id": "awltpuRnSsJa",
        "colab_type": "code",
        "colab": {
          "base_uri": "https://localhost:8080/",
          "height": 388
        },
        "outputId": "8e3a342f-a5c4-449a-b09a-ca5f786bb40b"
      },
      "source": [
        "tips_sum_by_day.plot.bar(x='day', y='tip', rot=0)\n",
        "\n",
        "plt.show()"
      ],
      "execution_count": 39,
      "outputs": [
        {
          "output_type": "display_data",
          "data": {
            "image/png": "[encoded data removed]",
            "text/plain": [
              "<Figure size 720x432 with 1 Axes>"
            ]
          },
          "metadata": {
            "tags": []
          }
        }
      ]
    },
    {
      "cell_type": "code",
      "metadata": {
        "id": "UoG10WgUTJwA",
        "colab_type": "code",
        "colab": {
          "base_uri": "https://localhost:8080/",
          "height": 194
        },
        "outputId": "e2df08ff-c63c-40ae-8f51-5bc55cfb4515"
      },
      "source": [
        "tips_sum_by_day_sex = pd.DataFrame(tips.groupby(['day', 'sex']).tip.sum())\n",
        "\n",
        "tips_sum_by_day_sex = tips_sum_by_day_sex.reset_index()\n",
        "\n",
        "tips_sum_by_day_sex_pivot = tips_sum_by_day_sex.pivot(index='day', \n",
        "\n",
        "                              columns='sex', \n",
        "\n",
        "                              values='tip')\n",
        "\n",
        "tips_sum_by_day_sex_pivot"
      ],
      "execution_count": 43,
      "outputs": [
        {
          "output_type": "execute_result",
          "data": {
            "text/html": [
              "<div>\n",
              "<style scoped>\n",
              "    .dataframe tbody tr th:only-of-type {\n",
              "        vertical-align: middle;\n",
              "    }\n",
              "\n",
              "    .dataframe tbody tr th {\n",
              "        vertical-align: top;\n",
              "    }\n",
              "\n",
              "    .dataframe thead th {\n",
              "        text-align: right;\n",
              "    }\n",
              "</style>\n",
              "<table border=\"1\" class=\"dataframe\">\n",
              "  <thead>\n",
              "    <tr style=\"text-align: right;\">\n",
              "      <th>sex</th>\n",
              "      <th>Male</th>\n",
              "      <th>Female</th>\n",
              "    </tr>\n",
              "    <tr>\n",
              "      <th>day</th>\n",
              "      <th></th>\n",
              "      <th></th>\n",
              "    </tr>\n",
              "  </thead>\n",
              "  <tbody>\n",
              "    <tr>\n",
              "      <th>Thur</th>\n",
              "      <td>89.41</td>\n",
              "      <td>82.42</td>\n",
              "    </tr>\n",
              "    <tr>\n",
              "      <th>Fri</th>\n",
              "      <td>26.93</td>\n",
              "      <td>25.03</td>\n",
              "    </tr>\n",
              "    <tr>\n",
              "      <th>Sat</th>\n",
              "      <td>181.95</td>\n",
              "      <td>78.45</td>\n",
              "    </tr>\n",
              "    <tr>\n",
              "      <th>Sun</th>\n",
              "      <td>186.78</td>\n",
              "      <td>60.61</td>\n",
              "    </tr>\n",
              "  </tbody>\n",
              "</table>\n",
              "</div>"
            ],
            "text/plain": [
              "sex     Male  Female\n",
              "day                 \n",
              "Thur   89.41   82.42\n",
              "Fri    26.93   25.03\n",
              "Sat   181.95   78.45\n",
              "Sun   186.78   60.61"
            ]
          },
          "metadata": {
            "tags": []
          },
          "execution_count": 43
        }
      ]
    },
    {
      "cell_type": "code",
      "metadata": {
        "id": "fAPGqwoNTdIL",
        "colab_type": "code",
        "colab": {
          "base_uri": "https://localhost:8080/",
          "height": 409
        },
        "outputId": "468cd2a3-e5dc-42fe-983b-6c5e1d4f93d4"
      },
      "source": [
        "tips_sum_by_day_sex_pivot.plot.bar(stacked=True, rot=0)\n",
        "\n",
        "plt.title('Stacked Bar Chart by Pandas', fontsize=20)\n",
        "\n",
        "plt.show()"
      ],
      "execution_count": 44,
      "outputs": [
        {
          "output_type": "display_data",
          "data": {
            "image/png": "[encoded data removed]",
            "text/plain": [
              "<Figure size 720x432 with 1 Axes>"
            ]
          },
          "metadata": {
            "tags": []
          }
        }
      ]
    },
    {
      "cell_type": "code",
      "metadata": {
        "id": "DQVqjrKBUQI9",
        "colab_type": "code",
        "colab": {
          "base_uri": "https://localhost:8080/",
          "height": 409
        },
        "outputId": "270caa7d-4812-4264-f8ce-f6dbe853602a"
      },
      "source": [
        "tips_sum_by_day_sex_pivot.plot(kind='bar', rot=0)\n",
        "\n",
        "plt.title('Dodged Bar Chart by Pandas', fontsize=20)\n",
        "\n",
        "plt.legend(fontsize='12')\n",
        "\n",
        "plt.show()"
      ],
      "execution_count": 45,
      "outputs": [
        {
          "output_type": "display_data",
          "data": {
            "image/png": "[encoded data removed]",
            "text/plain": [
              "<Figure size 720x432 with 1 Axes>"
            ]
          },
          "metadata": {
            "tags": []
          }
        }
      ]
    },
    {
      "cell_type": "code",
      "metadata": {
        "id": "CvgDuCBNUc4u",
        "colab_type": "code",
        "colab": {}
      },
      "source": [
        ""
      ],
      "execution_count": 0,
      "outputs": []
    }
  ]
}