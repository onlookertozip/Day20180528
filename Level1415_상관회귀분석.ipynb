{
  "nbformat": 4,
  "nbformat_minor": 0,
  "metadata": {
    "colab": {
      "name": "Level1415_상관회귀분석.ipynb",
      "provenance": [],
      "collapsed_sections": [],
      "authorship_tag": "ABX9TyP+jFSX33sKb2aYyo9PDPM4",
      "include_colab_link": true
    },
    "kernelspec": {
      "name": "python3",
      "display_name": "Python 3"
    }
  },
  "cells": [
    {
      "cell_type": "markdown",
      "metadata": {
        "id": "view-in-github",
        "colab_type": "text"
      },
      "source": [
        "<a href=\"https://colab.research.google.com/github/onlookertozip/Day20180528/blob/master/Level1415_%EC%83%81%EA%B4%80%ED%9A%8C%EA%B7%80%EB%B6%84%EC%84%9D.ipynb\" target=\"_parent\"><img src=\"https://colab.research.google.com/assets/colab-badge.svg\" alt=\"Open In Colab\"/></a>"
      ]
    },
    {
      "cell_type": "code",
      "metadata": {
        "id": "KuXxHDG0b_7W",
        "colab_type": "code",
        "colab": {}
      },
      "source": [
        "import pandas as pd"
      ],
      "execution_count": 0,
      "outputs": []
    },
    {
      "cell_type": "code",
      "metadata": {
        "id": "gxMBizw4cOtI",
        "colab_type": "code",
        "colab": {}
      },
      "source": [
        "df = pd.DataFrame({\"v1\":[100,200,300,400], \"v2\":[400,200,100,250], \"v3\":[40,60,60,100]})"
      ],
      "execution_count": 0,
      "outputs": []
    },
    {
      "cell_type": "code",
      "metadata": {
        "id": "XY3-iKLHcSOT",
        "colab_type": "code",
        "colab": {}
      },
      "source": [
        "corr = df.corr(method = 'pearson')"
      ],
      "execution_count": 0,
      "outputs": []
    },
    {
      "cell_type": "code",
      "metadata": {
        "id": "xVC03AVQcWCb",
        "colab_type": "code",
        "outputId": "0a540b11-3a2c-4089-ddb2-220fe6bd8236",
        "colab": {
          "base_uri": "https://localhost:8080/",
          "height": 137
        }
      },
      "source": [
        "corr"
      ],
      "execution_count": 0,
      "outputs": [
        {
          "output_type": "execute_result",
          "data": {
            "text/html": [
              "<div>\n",
              "<style scoped>\n",
              "    .dataframe tbody tr th:only-of-type {\n",
              "        vertical-align: middle;\n",
              "    }\n",
              "\n",
              "    .dataframe tbody tr th {\n",
              "        vertical-align: top;\n",
              "    }\n",
              "\n",
              "    .dataframe thead th {\n",
              "        text-align: right;\n",
              "    }\n",
              "</style>\n",
              "<table border=\"1\" class=\"dataframe\">\n",
              "  <thead>\n",
              "    <tr style=\"text-align: right;\">\n",
              "      <th></th>\n",
              "      <th>v1</th>\n",
              "      <th>v2</th>\n",
              "      <th>v3</th>\n",
              "    </tr>\n",
              "  </thead>\n",
              "  <tbody>\n",
              "    <tr>\n",
              "      <th>v1</th>\n",
              "      <td>1.000000</td>\n",
              "      <td>-0.568038</td>\n",
              "      <td>0.923381</td>\n",
              "    </tr>\n",
              "    <tr>\n",
              "      <th>v2</th>\n",
              "      <td>-0.568038</td>\n",
              "      <td>1.000000</td>\n",
              "      <td>-0.291397</td>\n",
              "    </tr>\n",
              "    <tr>\n",
              "      <th>v3</th>\n",
              "      <td>0.923381</td>\n",
              "      <td>-0.291397</td>\n",
              "      <td>1.000000</td>\n",
              "    </tr>\n",
              "  </tbody>\n",
              "</table>\n",
              "</div>"
            ],
            "text/plain": [
              "          v1        v2        v3\n",
              "v1  1.000000 -0.568038  0.923381\n",
              "v2 -0.568038  1.000000 -0.291397\n",
              "v3  0.923381 -0.291397  1.000000"
            ]
          },
          "metadata": {
            "tags": []
          },
          "execution_count": 4
        }
      ]
    },
    {
      "cell_type": "code",
      "metadata": {
        "id": "2cQ3KIPHcYui",
        "colab_type": "code",
        "colab": {}
      },
      "source": [
        "import matplotlib.pyplot as plt \n",
        "import seaborn as sns"
      ],
      "execution_count": 0,
      "outputs": []
    },
    {
      "cell_type": "code",
      "metadata": {
        "id": "96haZvrBcd3r",
        "colab_type": "code",
        "outputId": "54b311ba-83b7-4816-9415-bfa062c604b0",
        "colab": {
          "base_uri": "https://localhost:8080/",
          "height": 264
        }
      },
      "source": [
        "df_heatmap = sns.heatmap(corr, cbar = True, annot = True, annot_kws={'size' : 20}, fmt = '.2f', square = True, cmap = 'Blues')"
      ],
      "execution_count": 0,
      "outputs": [
        {
          "output_type": "display_data",
          "data": {
            "image/png": "[encoded data removed]",
            "text/plain": [
              "<Figure size 432x288 with 2 Axes>"
            ]
          },
          "metadata": {
            "tags": []
          }
        }
      ]
    },
    {
      "cell_type": "code",
      "metadata": {
        "id": "Eo1AJDzfcia9",
        "colab_type": "code",
        "outputId": "9bed6140-1ee2-4c0d-ebf4-217a1a43fe96",
        "colab": {
          "base_uri": "https://localhost:8080/",
          "height": 87
        }
      },
      "source": [
        "import pandas as pd\n",
        "from pandas import Series, DataFrame\n",
        "\n",
        "df=DataFrame([\n",
        "\t[3000,2000,3200,2100],\n",
        "\t[2000,1700,2600, 1800],\n",
        "\t[1500,2000,1500,13000]\n",
        "])\n",
        "print(df)"
      ],
      "execution_count": 0,
      "outputs": [
        {
          "output_type": "stream",
          "text": [
            "      0     1     2      3\n",
            "0  3000  2000  3200   2100\n",
            "1  2000  1700  2600   1800\n",
            "2  1500  2000  1500  13000\n"
          ],
          "name": "stdout"
        }
      ]
    },
    {
      "cell_type": "code",
      "metadata": {
        "id": "Um--ow6FeBkt",
        "colab_type": "code",
        "outputId": "d8efe53d-629f-49a3-bffe-96e9319edab1",
        "colab": {
          "base_uri": "https://localhost:8080/",
          "height": 167
        }
      },
      "source": [
        "df=df.T\n",
        "df"
      ],
      "execution_count": 0,
      "outputs": [
        {
          "output_type": "execute_result",
          "data": {
            "text/html": [
              "<div>\n",
              "<style scoped>\n",
              "    .dataframe tbody tr th:only-of-type {\n",
              "        vertical-align: middle;\n",
              "    }\n",
              "\n",
              "    .dataframe tbody tr th {\n",
              "        vertical-align: top;\n",
              "    }\n",
              "\n",
              "    .dataframe thead th {\n",
              "        text-align: right;\n",
              "    }\n",
              "</style>\n",
              "<table border=\"1\" class=\"dataframe\">\n",
              "  <thead>\n",
              "    <tr style=\"text-align: right;\">\n",
              "      <th></th>\n",
              "      <th>0</th>\n",
              "      <th>1</th>\n",
              "      <th>2</th>\n",
              "    </tr>\n",
              "  </thead>\n",
              "  <tbody>\n",
              "    <tr>\n",
              "      <th>0</th>\n",
              "      <td>3000</td>\n",
              "      <td>2000</td>\n",
              "      <td>1500</td>\n",
              "    </tr>\n",
              "    <tr>\n",
              "      <th>1</th>\n",
              "      <td>2000</td>\n",
              "      <td>1700</td>\n",
              "      <td>2000</td>\n",
              "    </tr>\n",
              "    <tr>\n",
              "      <th>2</th>\n",
              "      <td>3200</td>\n",
              "      <td>2600</td>\n",
              "      <td>1500</td>\n",
              "    </tr>\n",
              "    <tr>\n",
              "      <th>3</th>\n",
              "      <td>2100</td>\n",
              "      <td>1800</td>\n",
              "      <td>13000</td>\n",
              "    </tr>\n",
              "  </tbody>\n",
              "</table>\n",
              "</div>"
            ],
            "text/plain": [
              "      0     1      2\n",
              "0  3000  2000   1500\n",
              "1  2000  1700   2000\n",
              "2  3200  2600   1500\n",
              "3  2100  1800  13000"
            ]
          },
          "metadata": {
            "tags": []
          },
          "execution_count": 12
        }
      ]
    },
    {
      "cell_type": "code",
      "metadata": {
        "id": "jy4WgpkweaPq",
        "colab_type": "code",
        "outputId": "c6d9a4ea-3aaf-4859-81c3-547d097743a7",
        "colab": {
          "base_uri": "https://localhost:8080/",
          "height": 167
        }
      },
      "source": [
        "df.columns=['Google','Naver','Daum']\n",
        "df"
      ],
      "execution_count": 0,
      "outputs": [
        {
          "output_type": "execute_result",
          "data": {
            "text/html": [
              "<div>\n",
              "<style scoped>\n",
              "    .dataframe tbody tr th:only-of-type {\n",
              "        vertical-align: middle;\n",
              "    }\n",
              "\n",
              "    .dataframe tbody tr th {\n",
              "        vertical-align: top;\n",
              "    }\n",
              "\n",
              "    .dataframe thead th {\n",
              "        text-align: right;\n",
              "    }\n",
              "</style>\n",
              "<table border=\"1\" class=\"dataframe\">\n",
              "  <thead>\n",
              "    <tr style=\"text-align: right;\">\n",
              "      <th></th>\n",
              "      <th>Google</th>\n",
              "      <th>Naver</th>\n",
              "      <th>Daum</th>\n",
              "    </tr>\n",
              "  </thead>\n",
              "  <tbody>\n",
              "    <tr>\n",
              "      <th>0</th>\n",
              "      <td>3000</td>\n",
              "      <td>2000</td>\n",
              "      <td>1500</td>\n",
              "    </tr>\n",
              "    <tr>\n",
              "      <th>1</th>\n",
              "      <td>2000</td>\n",
              "      <td>1700</td>\n",
              "      <td>2000</td>\n",
              "    </tr>\n",
              "    <tr>\n",
              "      <th>2</th>\n",
              "      <td>3200</td>\n",
              "      <td>2600</td>\n",
              "      <td>1500</td>\n",
              "    </tr>\n",
              "    <tr>\n",
              "      <th>3</th>\n",
              "      <td>2100</td>\n",
              "      <td>1800</td>\n",
              "      <td>13000</td>\n",
              "    </tr>\n",
              "  </tbody>\n",
              "</table>\n",
              "</div>"
            ],
            "text/plain": [
              "   Google  Naver   Daum\n",
              "0    3000   2000   1500\n",
              "1    2000   1700   2000\n",
              "2    3200   2600   1500\n",
              "3    2100   1800  13000"
            ]
          },
          "metadata": {
            "tags": []
          },
          "execution_count": 14
        }
      ]
    },
    {
      "cell_type": "code",
      "metadata": {
        "id": "J-zQQ9fqe5X1",
        "colab_type": "code",
        "outputId": "fbc9b984-3470-4797-f879-f857bf09cab1",
        "colab": {
          "base_uri": "https://localhost:8080/",
          "height": 87
        }
      },
      "source": [
        "print(df.corr())"
      ],
      "execution_count": 0,
      "outputs": [
        {
          "output_type": "stream",
          "text": [
            "          Google     Naver      Daum\n",
            "Google  1.000000  0.866618 -0.551247\n",
            "Naver   0.866618  1.000000 -0.400942\n",
            "Daum   -0.551247 -0.400942  1.000000\n"
          ],
          "name": "stdout"
        }
      ]
    },
    {
      "cell_type": "code",
      "metadata": {
        "id": "Gi2R16bSfCsV",
        "colab_type": "code",
        "outputId": "a7dc97a3-9eb9-44a0-b67d-d0ba2c7d2968",
        "colab": {
          "base_uri": "https://localhost:8080/",
          "height": 34
        }
      },
      "source": [
        "print(df['Daum'].corr(df['Naver']))"
      ],
      "execution_count": 0,
      "outputs": [
        {
          "output_type": "stream",
          "text": [
            "-0.40094216130654803\n"
          ],
          "name": "stdout"
        }
      ]
    },
    {
      "cell_type": "code",
      "metadata": {
        "id": "q08vYtzrfZ-b",
        "colab_type": "code",
        "outputId": "e2d336dd-b192-48cd-a5b5-53cba4f4612d",
        "colab": {
          "base_uri": "https://localhost:8080/",
          "height": 34
        }
      },
      "source": [
        "\n",
        "print(df.Daum.corr(df['Naver']))"
      ],
      "execution_count": 0,
      "outputs": [
        {
          "output_type": "stream",
          "text": [
            "-0.40094216130654803\n"
          ],
          "name": "stdout"
        }
      ]
    },
    {
      "cell_type": "code",
      "metadata": {
        "id": "4uIXqKfQfdSH",
        "colab_type": "code",
        "outputId": "0ca104bb-fc75-4439-f9ca-ac5e2e8bd955",
        "colab": {
          "base_uri": "https://localhost:8080/",
          "height": 34
        }
      },
      "source": [
        "from scipy import stats\n",
        "des=stats.linregress(df.Google, df.Naver)\n",
        "print(des)"
      ],
      "execution_count": 0,
      "outputs": [
        {
          "output_type": "stream",
          "text": [
            "LinregressResult(slope=0.5698447893569845, intercept=557.6496674057651, rvalue=0.8666176836199425, pvalue=0.13338231638005746, stderr=0.23200153187633407)\n"
          ],
          "name": "stdout"
        }
      ]
    },
    {
      "cell_type": "code",
      "metadata": {
        "id": "joL0zMKjgTd3",
        "colab_type": "code",
        "outputId": "caa35055-3bb7-418c-ead1-2db7f492e798",
        "colab": {
          "base_uri": "https://localhost:8080/",
          "height": 34
        }
      },
      "source": [
        "slope, intercept, rvalue, pvalue, stderr = stats.linregress(df.Google, df.Naver)\n",
        "print(\"구글이 5000일때 네이버의 값 예측 : \", 5000*slope + intercept)"
      ],
      "execution_count": 0,
      "outputs": [
        {
          "output_type": "stream",
          "text": [
            "구글이 5000일때 네이버의 값 예측 :  3406.8736141906875\n"
          ],
          "name": "stdout"
        }
      ]
    },
    {
      "cell_type": "code",
      "metadata": {
        "id": "JURsjeV5hHXG",
        "colab_type": "code",
        "outputId": "7f604f43-d5b0-4fd5-baa5-2fbd4180336b",
        "colab": {
          "base_uri": "https://localhost:8080/",
          "height": 320
        }
      },
      "source": [
        "from scipy import polyval\n",
        "import matplotlib as plt\n",
        "from pylab import plot,title,show,legend\n",
        "\n",
        "ry=polyval([slope, intercept],df['Google'])\n",
        "plot(df.Google, ry, 'r--')\n",
        "show()"
      ],
      "execution_count": 0,
      "outputs": [
        {
          "output_type": "stream",
          "text": [
            "/usr/local/lib/python3.6/dist-packages/ipykernel_launcher.py:5: DeprecationWarning: scipy.polyval is deprecated and will be removed in SciPy 2.0.0, use numpy.polyval instead\n",
            "  \"\"\"\n"
          ],
          "name": "stderr"
        },
        {
          "output_type": "display_data",
          "data": {
            "image/png": "[encoded data removed]",
            "text/plain": [
              "<Figure size 432x288 with 1 Axes>"
            ]
          },
          "metadata": {
            "tags": []
          }
        }
      ]
    },
    {
      "cell_type": "code",
      "metadata": {
        "id": "LyZ328z0hsQp",
        "colab_type": "code",
        "outputId": "15843b5d-a588-4bd0-c635-bced607b3113",
        "colab": {
          "base_uri": "https://localhost:8080/",
          "height": 377
        }
      },
      "source": [
        "import numpy as np\n",
        "\n",
        "import pandas as pd\n",
        "\n",
        "from pandas import DataFrame\n",
        "\n",
        "\n",
        "\n",
        "# making DataFrame with 4 random variables\n",
        "\n",
        "np.random.seed(123) # for reproducibility\n",
        "\n",
        "df= DataFrame(np.random.randn(10, 4), \n",
        "\n",
        "                    columns=['a', 'b', 'c', 'd'])\n",
        "\n",
        "# setting index with 2 group, 'grp1' and 'grp2'\n",
        "\n",
        "df['group'] = ['grp1', 'grp1', 'grp1', 'grp1', 'grp1', \n",
        "\n",
        "                  'grp2', 'grp2', 'grp2', 'grp2', 'grp2']\n",
        "\n",
        "\n",
        "\n",
        "df = df.set_index('group')\n",
        "\n",
        "df"
      ],
      "execution_count": 0,
      "outputs": [
        {
          "output_type": "execute_result",
          "data": {
            "text/html": [
              "<div>\n",
              "<style scoped>\n",
              "    .dataframe tbody tr th:only-of-type {\n",
              "        vertical-align: middle;\n",
              "    }\n",
              "\n",
              "    .dataframe tbody tr th {\n",
              "        vertical-align: top;\n",
              "    }\n",
              "\n",
              "    .dataframe thead th {\n",
              "        text-align: right;\n",
              "    }\n",
              "</style>\n",
              "<table border=\"1\" class=\"dataframe\">\n",
              "  <thead>\n",
              "    <tr style=\"text-align: right;\">\n",
              "      <th></th>\n",
              "      <th>a</th>\n",
              "      <th>b</th>\n",
              "      <th>c</th>\n",
              "      <th>d</th>\n",
              "    </tr>\n",
              "    <tr>\n",
              "      <th>group</th>\n",
              "      <th></th>\n",
              "      <th></th>\n",
              "      <th></th>\n",
              "      <th></th>\n",
              "    </tr>\n",
              "  </thead>\n",
              "  <tbody>\n",
              "    <tr>\n",
              "      <th>grp1</th>\n",
              "      <td>-1.085631</td>\n",
              "      <td>0.997345</td>\n",
              "      <td>0.282978</td>\n",
              "      <td>-1.506295</td>\n",
              "    </tr>\n",
              "    <tr>\n",
              "      <th>grp1</th>\n",
              "      <td>-0.578600</td>\n",
              "      <td>1.651437</td>\n",
              "      <td>-2.426679</td>\n",
              "      <td>-0.428913</td>\n",
              "    </tr>\n",
              "    <tr>\n",
              "      <th>grp1</th>\n",
              "      <td>1.265936</td>\n",
              "      <td>-0.866740</td>\n",
              "      <td>-0.678886</td>\n",
              "      <td>-0.094709</td>\n",
              "    </tr>\n",
              "    <tr>\n",
              "      <th>grp1</th>\n",
              "      <td>1.491390</td>\n",
              "      <td>-0.638902</td>\n",
              "      <td>-0.443982</td>\n",
              "      <td>-0.434351</td>\n",
              "    </tr>\n",
              "    <tr>\n",
              "      <th>grp1</th>\n",
              "      <td>2.205930</td>\n",
              "      <td>2.186786</td>\n",
              "      <td>1.004054</td>\n",
              "      <td>0.386186</td>\n",
              "    </tr>\n",
              "    <tr>\n",
              "      <th>grp2</th>\n",
              "      <td>0.737369</td>\n",
              "      <td>1.490732</td>\n",
              "      <td>-0.935834</td>\n",
              "      <td>1.175829</td>\n",
              "    </tr>\n",
              "    <tr>\n",
              "      <th>grp2</th>\n",
              "      <td>-1.253881</td>\n",
              "      <td>-0.637752</td>\n",
              "      <td>0.907105</td>\n",
              "      <td>-1.428681</td>\n",
              "    </tr>\n",
              "    <tr>\n",
              "      <th>grp2</th>\n",
              "      <td>-0.140069</td>\n",
              "      <td>-0.861755</td>\n",
              "      <td>-0.255619</td>\n",
              "      <td>-2.798589</td>\n",
              "    </tr>\n",
              "    <tr>\n",
              "      <th>grp2</th>\n",
              "      <td>-1.771533</td>\n",
              "      <td>-0.699877</td>\n",
              "      <td>0.927462</td>\n",
              "      <td>-0.173636</td>\n",
              "    </tr>\n",
              "    <tr>\n",
              "      <th>grp2</th>\n",
              "      <td>0.002846</td>\n",
              "      <td>0.688223</td>\n",
              "      <td>-0.879536</td>\n",
              "      <td>0.283627</td>\n",
              "    </tr>\n",
              "  </tbody>\n",
              "</table>\n",
              "</div>"
            ],
            "text/plain": [
              "              a         b         c         d\n",
              "group                                        \n",
              "grp1  -1.085631  0.997345  0.282978 -1.506295\n",
              "grp1  -0.578600  1.651437 -2.426679 -0.428913\n",
              "grp1   1.265936 -0.866740 -0.678886 -0.094709\n",
              "grp1   1.491390 -0.638902 -0.443982 -0.434351\n",
              "grp1   2.205930  2.186786  1.004054  0.386186\n",
              "grp2   0.737369  1.490732 -0.935834  1.175829\n",
              "grp2  -1.253881 -0.637752  0.907105 -1.428681\n",
              "grp2  -0.140069 -0.861755 -0.255619 -2.798589\n",
              "grp2  -1.771533 -0.699877  0.927462 -0.173636\n",
              "grp2   0.002846  0.688223 -0.879536  0.283627"
            ]
          },
          "metadata": {
            "tags": []
          },
          "execution_count": 27
        }
      ]
    },
    {
      "cell_type": "code",
      "metadata": {
        "id": "4krwNa2YkumO",
        "colab_type": "code",
        "outputId": "1a9f2bbc-aaf4-4e5d-957d-f1682320c828",
        "colab": {
          "base_uri": "https://localhost:8080/",
          "height": 137
        }
      },
      "source": [
        "# correlation with columns: corrwith()\n",
        "corr_with_d = lambda x: x.corrwith(x['d'])\n",
        "grouped = df.groupby('group')\n",
        "grouped.apply(corr_with_d) "
      ],
      "execution_count": 0,
      "outputs": [
        {
          "output_type": "execute_result",
          "data": {
            "text/html": [
              "<div>\n",
              "<style scoped>\n",
              "    .dataframe tbody tr th:only-of-type {\n",
              "        vertical-align: middle;\n",
              "    }\n",
              "\n",
              "    .dataframe tbody tr th {\n",
              "        vertical-align: top;\n",
              "    }\n",
              "\n",
              "    .dataframe thead th {\n",
              "        text-align: right;\n",
              "    }\n",
              "</style>\n",
              "<table border=\"1\" class=\"dataframe\">\n",
              "  <thead>\n",
              "    <tr style=\"text-align: right;\">\n",
              "      <th></th>\n",
              "      <th>a</th>\n",
              "      <th>b</th>\n",
              "      <th>c</th>\n",
              "      <th>d</th>\n",
              "    </tr>\n",
              "    <tr>\n",
              "      <th>group</th>\n",
              "      <th></th>\n",
              "      <th></th>\n",
              "      <th></th>\n",
              "      <th></th>\n",
              "    </tr>\n",
              "  </thead>\n",
              "  <tbody>\n",
              "    <tr>\n",
              "      <th>grp1</th>\n",
              "      <td>0.846822</td>\n",
              "      <td>0.099417</td>\n",
              "      <td>0.089205</td>\n",
              "      <td>1.0</td>\n",
              "    </tr>\n",
              "    <tr>\n",
              "      <th>grp2</th>\n",
              "      <td>0.307477</td>\n",
              "      <td>0.832473</td>\n",
              "      <td>-0.390469</td>\n",
              "      <td>1.0</td>\n",
              "    </tr>\n",
              "  </tbody>\n",
              "</table>\n",
              "</div>"
            ],
            "text/plain": [
              "              a         b         c    d\n",
              "group                                   \n",
              "grp1   0.846822  0.099417  0.089205  1.0\n",
              "grp2   0.307477  0.832473 -0.390469  1.0"
            ]
          },
          "metadata": {
            "tags": []
          },
          "execution_count": 28
        }
      ]
    },
    {
      "cell_type": "code",
      "metadata": {
        "id": "M-svKTpWlPDV",
        "colab_type": "code",
        "outputId": "67058578-81aa-47d3-f36f-c10a9e883f3d",
        "colab": {
          "base_uri": "https://localhost:8080/",
          "height": 137
        }
      },
      "source": [
        "# inter-column correlation: corr()\n",
        "corr_a_d = lambda g: g['a'].corr(g['d'])\n",
        "grouped = df.groupby('group')\n",
        "DataFrame(grouped.apply(corr_a_d))"
      ],
      "execution_count": 0,
      "outputs": [
        {
          "output_type": "execute_result",
          "data": {
            "text/html": [
              "<div>\n",
              "<style scoped>\n",
              "    .dataframe tbody tr th:only-of-type {\n",
              "        vertical-align: middle;\n",
              "    }\n",
              "\n",
              "    .dataframe tbody tr th {\n",
              "        vertical-align: top;\n",
              "    }\n",
              "\n",
              "    .dataframe thead th {\n",
              "        text-align: right;\n",
              "    }\n",
              "</style>\n",
              "<table border=\"1\" class=\"dataframe\">\n",
              "  <thead>\n",
              "    <tr style=\"text-align: right;\">\n",
              "      <th></th>\n",
              "      <th>0</th>\n",
              "    </tr>\n",
              "    <tr>\n",
              "      <th>group</th>\n",
              "      <th></th>\n",
              "    </tr>\n",
              "  </thead>\n",
              "  <tbody>\n",
              "    <tr>\n",
              "      <th>grp1</th>\n",
              "      <td>0.846822</td>\n",
              "    </tr>\n",
              "    <tr>\n",
              "      <th>grp2</th>\n",
              "      <td>0.307477</td>\n",
              "    </tr>\n",
              "  </tbody>\n",
              "</table>\n",
              "</div>"
            ],
            "text/plain": [
              "              0\n",
              "group          \n",
              "grp1   0.846822\n",
              "grp2   0.307477"
            ]
          },
          "metadata": {
            "tags": []
          },
          "execution_count": 29
        }
      ]
    },
    {
      "cell_type": "code",
      "metadata": {
        "id": "ukg_VKfUlhVC",
        "colab_type": "code",
        "outputId": "1fe5738a-d629-45ca-d86d-599aebf396bc",
        "colab": {
          "base_uri": "https://localhost:8080/",
          "height": 54
        }
      },
      "source": [
        "import numpy as np\n",
        "import pandas as pd\n",
        "from sklearn import datasets, linear_model\n",
        "diabetes = datasets.load_diabetes()\n",
        "diabetes.DESCR "
      ],
      "execution_count": 0,
      "outputs": [
        {
          "output_type": "execute_result",
          "data": {
            "text/plain": [
              "'.. _diabetes_dataset:\\n\\nDiabetes dataset\\n----------------\\n\\nTen baseline variables, age, sex, body mass index, average blood\\npressure, and six blood serum measurements were obtained for each of n =\\n442 diabetes patients, as well as the response of interest, a\\nquantitative measure of disease progression one year after baseline.\\n\\n**Data Set Characteristics:**\\n\\n  :Number of Instances: 442\\n\\n  :Number of Attributes: First 10 columns are numeric predictive values\\n\\n  :Target: Column 11 is a quantitative measure of disease progression one year after baseline\\n\\n  :Attribute Information:\\n      - Age\\n      - Sex\\n      - Body mass index\\n      - Average blood pressure\\n      - S1\\n      - S2\\n      - S3\\n      - S4\\n      - S5\\n      - S6\\n\\nNote: Each of these 10 feature variables have been mean centered and scaled by the standard deviation times `n_samples` (i.e. the sum of squares of each column totals 1).\\n\\nSource URL:\\nhttps://www4.stat.ncsu.edu/~boos/var.select/diabetes.html\\n\\nFor more information see:\\nBradley Efron, Trevor Hastie, Iain Johnstone and Robert Tibshirani (2004) \"Least Angle Regression,\" Annals of Statistics (with discussion), 407-499.\\n(https://web.stanford.edu/~hastie/Papers/LARS/LeastAngle_2002.pdf)'"
            ]
          },
          "metadata": {
            "tags": []
          },
          "execution_count": 30
        }
      ]
    },
    {
      "cell_type": "code",
      "metadata": {
        "id": "TnnG97cAmYUc",
        "colab_type": "code",
        "outputId": "c08be48f-d5e7-48f1-f6ba-c09b8e66789e",
        "colab": {
          "base_uri": "https://localhost:8080/",
          "height": 34
        }
      },
      "source": [
        "diabetes.feature_names"
      ],
      "execution_count": 0,
      "outputs": [
        {
          "output_type": "execute_result",
          "data": {
            "text/plain": [
              "['age', 'sex', 'bmi', 'bp', 's1', 's2', 's3', 's4', 's5', 's6']"
            ]
          },
          "metadata": {
            "tags": []
          },
          "execution_count": 31
        }
      ]
    },
    {
      "cell_type": "code",
      "metadata": {
        "id": "_8R235bbm43T",
        "colab_type": "code",
        "outputId": "74824267-1f2c-42a3-cab3-01fa42fe84da",
        "colab": {
          "base_uri": "https://localhost:8080/",
          "height": 34
        }
      },
      "source": [
        "diabetes.target[:5]"
      ],
      "execution_count": 0,
      "outputs": [
        {
          "output_type": "execute_result",
          "data": {
            "text/plain": [
              "array([151.,  75., 141., 206., 135.])"
            ]
          },
          "metadata": {
            "tags": []
          },
          "execution_count": 32
        }
      ]
    },
    {
      "cell_type": "code",
      "metadata": {
        "id": "QGCxFdGgm6w0",
        "colab_type": "code",
        "outputId": "b3344e07-221b-4334-bd82-795c5b3bff59",
        "colab": {
          "base_uri": "https://localhost:8080/",
          "height": 197
        }
      },
      "source": [
        "# Make a DataFrame of Y ('target')\n",
        "diabetes_Y = pd.DataFrame(diabetes.target, columns = ['target'])\n",
        "diabetes_Y[:5]"
      ],
      "execution_count": 0,
      "outputs": [
        {
          "output_type": "execute_result",
          "data": {
            "text/html": [
              "<div>\n",
              "<style scoped>\n",
              "    .dataframe tbody tr th:only-of-type {\n",
              "        vertical-align: middle;\n",
              "    }\n",
              "\n",
              "    .dataframe tbody tr th {\n",
              "        vertical-align: top;\n",
              "    }\n",
              "\n",
              "    .dataframe thead th {\n",
              "        text-align: right;\n",
              "    }\n",
              "</style>\n",
              "<table border=\"1\" class=\"dataframe\">\n",
              "  <thead>\n",
              "    <tr style=\"text-align: right;\">\n",
              "      <th></th>\n",
              "      <th>target</th>\n",
              "    </tr>\n",
              "  </thead>\n",
              "  <tbody>\n",
              "    <tr>\n",
              "      <th>0</th>\n",
              "      <td>151.0</td>\n",
              "    </tr>\n",
              "    <tr>\n",
              "      <th>1</th>\n",
              "      <td>75.0</td>\n",
              "    </tr>\n",
              "    <tr>\n",
              "      <th>2</th>\n",
              "      <td>141.0</td>\n",
              "    </tr>\n",
              "    <tr>\n",
              "      <th>3</th>\n",
              "      <td>206.0</td>\n",
              "    </tr>\n",
              "    <tr>\n",
              "      <th>4</th>\n",
              "      <td>135.0</td>\n",
              "    </tr>\n",
              "  </tbody>\n",
              "</table>\n",
              "</div>"
            ],
            "text/plain": [
              "   target\n",
              "0   151.0\n",
              "1    75.0\n",
              "2   141.0\n",
              "3   206.0\n",
              "4   135.0"
            ]
          },
          "metadata": {
            "tags": []
          },
          "execution_count": 33
        }
      ]
    },
    {
      "cell_type": "code",
      "metadata": {
        "id": "O4FYUFBxoHpP",
        "colab_type": "code",
        "outputId": "98bf7d00-b7fd-42bb-a948-8ecec47daad3",
        "colab": {
          "base_uri": "https://localhost:8080/",
          "height": 197
        }
      },
      "source": [
        "# Make a DataFrame of X with age, sex, bmi\n",
        "\n",
        "diabetes_X = pd.DataFrame(diabetes.data[:, 0:3], \n",
        "\n",
        "                          columns = ['age', 'sex', 'bmi']) # age, sex, bmi\n",
        "diabetes_X[:5]"
      ],
      "execution_count": 0,
      "outputs": [
        {
          "output_type": "execute_result",
          "data": {
            "text/html": [
              "<div>\n",
              "<style scoped>\n",
              "    .dataframe tbody tr th:only-of-type {\n",
              "        vertical-align: middle;\n",
              "    }\n",
              "\n",
              "    .dataframe tbody tr th {\n",
              "        vertical-align: top;\n",
              "    }\n",
              "\n",
              "    .dataframe thead th {\n",
              "        text-align: right;\n",
              "    }\n",
              "</style>\n",
              "<table border=\"1\" class=\"dataframe\">\n",
              "  <thead>\n",
              "    <tr style=\"text-align: right;\">\n",
              "      <th></th>\n",
              "      <th>age</th>\n",
              "      <th>sex</th>\n",
              "      <th>bmi</th>\n",
              "    </tr>\n",
              "  </thead>\n",
              "  <tbody>\n",
              "    <tr>\n",
              "      <th>0</th>\n",
              "      <td>0.038076</td>\n",
              "      <td>0.050680</td>\n",
              "      <td>0.061696</td>\n",
              "    </tr>\n",
              "    <tr>\n",
              "      <th>1</th>\n",
              "      <td>-0.001882</td>\n",
              "      <td>-0.044642</td>\n",
              "      <td>-0.051474</td>\n",
              "    </tr>\n",
              "    <tr>\n",
              "      <th>2</th>\n",
              "      <td>0.085299</td>\n",
              "      <td>0.050680</td>\n",
              "      <td>0.044451</td>\n",
              "    </tr>\n",
              "    <tr>\n",
              "      <th>3</th>\n",
              "      <td>-0.089063</td>\n",
              "      <td>-0.044642</td>\n",
              "      <td>-0.011595</td>\n",
              "    </tr>\n",
              "    <tr>\n",
              "      <th>4</th>\n",
              "      <td>0.005383</td>\n",
              "      <td>-0.044642</td>\n",
              "      <td>-0.036385</td>\n",
              "    </tr>\n",
              "  </tbody>\n",
              "</table>\n",
              "</div>"
            ],
            "text/plain": [
              "        age       sex       bmi\n",
              "0  0.038076  0.050680  0.061696\n",
              "1 -0.001882 -0.044642 -0.051474\n",
              "2  0.085299  0.050680  0.044451\n",
              "3 -0.089063 -0.044642 -0.011595\n",
              "4  0.005383 -0.044642 -0.036385"
            ]
          },
          "metadata": {
            "tags": []
          },
          "execution_count": 34
        }
      ]
    },
    {
      "cell_type": "code",
      "metadata": {
        "id": "-LbY-RsSoRCZ",
        "colab_type": "code",
        "outputId": "2d867771-3c97-443b-81ad-a11e8d4caf95",
        "colab": {
          "base_uri": "https://localhost:8080/",
          "height": 197
        }
      },
      "source": [
        "diabetes_df = pd.concat([diabetes_Y, diabetes_X], axis=1)\n",
        "diabetes_df[:5]"
      ],
      "execution_count": 0,
      "outputs": [
        {
          "output_type": "execute_result",
          "data": {
            "text/html": [
              "<div>\n",
              "<style scoped>\n",
              "    .dataframe tbody tr th:only-of-type {\n",
              "        vertical-align: middle;\n",
              "    }\n",
              "\n",
              "    .dataframe tbody tr th {\n",
              "        vertical-align: top;\n",
              "    }\n",
              "\n",
              "    .dataframe thead th {\n",
              "        text-align: right;\n",
              "    }\n",
              "</style>\n",
              "<table border=\"1\" class=\"dataframe\">\n",
              "  <thead>\n",
              "    <tr style=\"text-align: right;\">\n",
              "      <th></th>\n",
              "      <th>target</th>\n",
              "      <th>age</th>\n",
              "      <th>sex</th>\n",
              "      <th>bmi</th>\n",
              "    </tr>\n",
              "  </thead>\n",
              "  <tbody>\n",
              "    <tr>\n",
              "      <th>0</th>\n",
              "      <td>151.0</td>\n",
              "      <td>0.038076</td>\n",
              "      <td>0.050680</td>\n",
              "      <td>0.061696</td>\n",
              "    </tr>\n",
              "    <tr>\n",
              "      <th>1</th>\n",
              "      <td>75.0</td>\n",
              "      <td>-0.001882</td>\n",
              "      <td>-0.044642</td>\n",
              "      <td>-0.051474</td>\n",
              "    </tr>\n",
              "    <tr>\n",
              "      <th>2</th>\n",
              "      <td>141.0</td>\n",
              "      <td>0.085299</td>\n",
              "      <td>0.050680</td>\n",
              "      <td>0.044451</td>\n",
              "    </tr>\n",
              "    <tr>\n",
              "      <th>3</th>\n",
              "      <td>206.0</td>\n",
              "      <td>-0.089063</td>\n",
              "      <td>-0.044642</td>\n",
              "      <td>-0.011595</td>\n",
              "    </tr>\n",
              "    <tr>\n",
              "      <th>4</th>\n",
              "      <td>135.0</td>\n",
              "      <td>0.005383</td>\n",
              "      <td>-0.044642</td>\n",
              "      <td>-0.036385</td>\n",
              "    </tr>\n",
              "  </tbody>\n",
              "</table>\n",
              "</div>"
            ],
            "text/plain": [
              "   target       age       sex       bmi\n",
              "0   151.0  0.038076  0.050680  0.061696\n",
              "1    75.0 -0.001882 -0.044642 -0.051474\n",
              "2   141.0  0.085299  0.050680  0.044451\n",
              "3   206.0 -0.089063 -0.044642 -0.011595\n",
              "4   135.0  0.005383 -0.044642 -0.036385"
            ]
          },
          "metadata": {
            "tags": []
          },
          "execution_count": 35
        }
      ]
    },
    {
      "cell_type": "code",
      "metadata": {
        "id": "WantSdIcocup",
        "colab_type": "code",
        "outputId": "8c34a64b-82f2-4ed4-9db4-42c0cc3878c8",
        "colab": {
          "base_uri": "https://localhost:8080/",
          "height": 137
        }
      },
      "source": [
        "diabetes_df['grp'] = np.where(diabetes_df['sex'] > 0, 'M', 'F')\n",
        "diabetes_df.drop(columns=['sex'], inplace=True) \n",
        "diabetes_df[:3]"
      ],
      "execution_count": 0,
      "outputs": [
        {
          "output_type": "execute_result",
          "data": {
            "text/html": [
              "<div>\n",
              "<style scoped>\n",
              "    .dataframe tbody tr th:only-of-type {\n",
              "        vertical-align: middle;\n",
              "    }\n",
              "\n",
              "    .dataframe tbody tr th {\n",
              "        vertical-align: top;\n",
              "    }\n",
              "\n",
              "    .dataframe thead th {\n",
              "        text-align: right;\n",
              "    }\n",
              "</style>\n",
              "<table border=\"1\" class=\"dataframe\">\n",
              "  <thead>\n",
              "    <tr style=\"text-align: right;\">\n",
              "      <th></th>\n",
              "      <th>target</th>\n",
              "      <th>age</th>\n",
              "      <th>bmi</th>\n",
              "      <th>grp</th>\n",
              "    </tr>\n",
              "  </thead>\n",
              "  <tbody>\n",
              "    <tr>\n",
              "      <th>0</th>\n",
              "      <td>151.0</td>\n",
              "      <td>0.038076</td>\n",
              "      <td>0.061696</td>\n",
              "      <td>M</td>\n",
              "    </tr>\n",
              "    <tr>\n",
              "      <th>1</th>\n",
              "      <td>75.0</td>\n",
              "      <td>-0.001882</td>\n",
              "      <td>-0.051474</td>\n",
              "      <td>F</td>\n",
              "    </tr>\n",
              "    <tr>\n",
              "      <th>2</th>\n",
              "      <td>141.0</td>\n",
              "      <td>0.085299</td>\n",
              "      <td>0.044451</td>\n",
              "      <td>M</td>\n",
              "    </tr>\n",
              "  </tbody>\n",
              "</table>\n",
              "</div>"
            ],
            "text/plain": [
              "   target       age       bmi grp\n",
              "0   151.0  0.038076  0.061696   M\n",
              "1    75.0 -0.001882 -0.051474   F\n",
              "2   141.0  0.085299  0.044451   M"
            ]
          },
          "metadata": {
            "tags": []
          },
          "execution_count": 36
        }
      ]
    },
    {
      "cell_type": "code",
      "metadata": {
        "id": "Fo_00X4Us-QX",
        "colab_type": "code",
        "colab": {}
      },
      "source": [
        "# UDF of linear regression model\n",
        "def lin_regress(data, yvar, xvars):\n",
        "    # output, input variables\n",
        "    Y = data[yvar]\n",
        "    X = data[xvars]   \n",
        "\n",
        "    # Create linear regression object\n",
        "    linreg = linear_model.LinearRegression()   \n",
        "\n",
        "    # Fit the linear regression model\n",
        "    model = linreg.fit(X, Y)   \n",
        "\n",
        "    # Get the intercept and coefficients\n",
        "    intercept = model.intercept_\n",
        "    coef = model.coef_\n",
        "    result = [intercept, coef]    \n",
        "\n",
        "    return result"
      ],
      "execution_count": 0,
      "outputs": []
    },
    {
      "cell_type": "code",
      "metadata": {
        "id": "heLOtJaKuBU4",
        "colab_type": "code",
        "colab": {}
      },
      "source": [
        "# GroupBy\n",
        "grouped = diabetes_df.groupby('grp')\n",
        "# Apply the UDF of linear regression model by Group\n",
        "lin_reg_coef = grouped.apply(lin_regress, 'target', ['age', 'bmi'])"
      ],
      "execution_count": 0,
      "outputs": []
    },
    {
      "cell_type": "code",
      "metadata": {
        "id": "IlcVZeJLuTEG",
        "colab_type": "code",
        "outputId": "06e448c9-b74d-4d90-fa31-a11d22755283",
        "colab": {
          "base_uri": "https://localhost:8080/",
          "height": 87
        }
      },
      "source": [
        "lin_reg_coef"
      ],
      "execution_count": 0,
      "outputs": [
        {
          "output_type": "execute_result",
          "data": {
            "text/plain": [
              "grp\n",
              "F    [152.40684676047456, [23.199210147823965, 814....\n",
              "M    [148.21507864445124, [291.7563226838976, 1092....\n",
              "dtype: object"
            ]
          },
          "metadata": {
            "tags": []
          },
          "execution_count": 40
        }
      ]
    },
    {
      "cell_type": "code",
      "metadata": {
        "id": "AWVp_eM7ucmt",
        "colab_type": "code",
        "outputId": "0b7ee38b-0777-4ad3-87e4-4846c96b7ef8",
        "colab": {
          "base_uri": "https://localhost:8080/",
          "height": 34
        }
      },
      "source": [
        "lin_reg_coef['M']"
      ],
      "execution_count": 0,
      "outputs": [
        {
          "output_type": "execute_result",
          "data": {
            "text/plain": [
              "[148.21507864445124, array([ 291.75632268, 1092.80118705])]"
            ]
          },
          "metadata": {
            "tags": []
          },
          "execution_count": 41
        }
      ]
    },
    {
      "cell_type": "code",
      "metadata": {
        "id": "xkglbibCueV8",
        "colab_type": "code",
        "outputId": "548a583b-2e65-47da-ba2d-00af0b5ea2d4",
        "colab": {
          "base_uri": "https://localhost:8080/",
          "height": 34
        }
      },
      "source": [
        "lin_reg_coef['F']"
      ],
      "execution_count": 0,
      "outputs": [
        {
          "output_type": "execute_result",
          "data": {
            "text/plain": [
              "[152.40684676047456, array([ 23.19921015, 814.50932703])]"
            ]
          },
          "metadata": {
            "tags": []
          },
          "execution_count": 42
        }
      ]
    },
    {
      "cell_type": "code",
      "metadata": {
        "id": "kjjYABAvMB7s",
        "colab_type": "code",
        "colab": {}
      },
      "source": [
        "import numpy as np\n",
        "import pandas as pd\n",
        "\n",
        "# making groups\n",
        "group_1 = ['A', 'B']*20\n",
        "group_2 = ['C', 'D', 'E', 'F']*10\n",
        "group_3 = ['G', 'H', 'I', 'J', 'K', 'L', 'M', 'N']*5;"
      ],
      "execution_count": 0,
      "outputs": []
    },
    {
      "cell_type": "code",
      "metadata": {
        "id": "N4x4wRkZQmzw",
        "colab_type": "code",
        "outputId": "38988d2a-504c-45ca-babf-ece64632cdd8",
        "colab": {
          "base_uri": "https://localhost:8080/",
          "height": 1000
        }
      },
      "source": [
        "df = pd.DataFrame({'group_1': group_1, \n",
        "                   'group_2': group_2,\n",
        "                   'group_3': group_3,\n",
        "                   'col_1': np.random.randn(40), \n",
        "                   'col_2': np.random.randn(40), \n",
        "                   'col_3': np.random.randn(40), \n",
        "                   'col_4': np.random.randn(40)})\n",
        "\n",
        "df.sort_values(by=['group_1', 'group_2', 'group_3'], axis=0)"
      ],
      "execution_count": 0,
      "outputs": [
        {
          "output_type": "execute_result",
          "data": {
            "text/html": [
              "<div>\n",
              "<style scoped>\n",
              "    .dataframe tbody tr th:only-of-type {\n",
              "        vertical-align: middle;\n",
              "    }\n",
              "\n",
              "    .dataframe tbody tr th {\n",
              "        vertical-align: top;\n",
              "    }\n",
              "\n",
              "    .dataframe thead th {\n",
              "        text-align: right;\n",
              "    }\n",
              "</style>\n",
              "<table border=\"1\" class=\"dataframe\">\n",
              "  <thead>\n",
              "    <tr style=\"text-align: right;\">\n",
              "      <th></th>\n",
              "      <th>group_1</th>\n",
              "      <th>group_2</th>\n",
              "      <th>group_3</th>\n",
              "      <th>col_1</th>\n",
              "      <th>col_2</th>\n",
              "      <th>col_3</th>\n",
              "      <th>col_4</th>\n",
              "    </tr>\n",
              "  </thead>\n",
              "  <tbody>\n",
              "    <tr>\n",
              "      <th>0</th>\n",
              "      <td>A</td>\n",
              "      <td>C</td>\n",
              "      <td>G</td>\n",
              "      <td>-0.805367</td>\n",
              "      <td>1.255237</td>\n",
              "      <td>-0.275786</td>\n",
              "      <td>0.020316</td>\n",
              "    </tr>\n",
              "    <tr>\n",
              "      <th>8</th>\n",
              "      <td>A</td>\n",
              "      <td>C</td>\n",
              "      <td>G</td>\n",
              "      <td>0.978736</td>\n",
              "      <td>2.087113</td>\n",
              "      <td>0.474347</td>\n",
              "      <td>0.079227</td>\n",
              "    </tr>\n",
              "    <tr>\n",
              "      <th>16</th>\n",
              "      <td>A</td>\n",
              "      <td>C</td>\n",
              "      <td>G</td>\n",
              "      <td>0.890706</td>\n",
              "      <td>-1.084568</td>\n",
              "      <td>-0.548955</td>\n",
              "      <td>0.307384</td>\n",
              "    </tr>\n",
              "    <tr>\n",
              "      <th>24</th>\n",
              "      <td>A</td>\n",
              "      <td>C</td>\n",
              "      <td>G</td>\n",
              "      <td>1.417299</td>\n",
              "      <td>-0.024626</td>\n",
              "      <td>0.556549</td>\n",
              "      <td>-0.548642</td>\n",
              "    </tr>\n",
              "    <tr>\n",
              "      <th>32</th>\n",
              "      <td>A</td>\n",
              "      <td>C</td>\n",
              "      <td>G</td>\n",
              "      <td>1.162204</td>\n",
              "      <td>-0.735217</td>\n",
              "      <td>-1.411889</td>\n",
              "      <td>0.199582</td>\n",
              "    </tr>\n",
              "    <tr>\n",
              "      <th>4</th>\n",
              "      <td>A</td>\n",
              "      <td>C</td>\n",
              "      <td>K</td>\n",
              "      <td>0.338589</td>\n",
              "      <td>-0.314758</td>\n",
              "      <td>1.608691</td>\n",
              "      <td>0.665653</td>\n",
              "    </tr>\n",
              "    <tr>\n",
              "      <th>12</th>\n",
              "      <td>A</td>\n",
              "      <td>C</td>\n",
              "      <td>K</td>\n",
              "      <td>1.743712</td>\n",
              "      <td>0.181035</td>\n",
              "      <td>-0.756437</td>\n",
              "      <td>-0.740814</td>\n",
              "    </tr>\n",
              "    <tr>\n",
              "      <th>20</th>\n",
              "      <td>A</td>\n",
              "      <td>C</td>\n",
              "      <td>K</td>\n",
              "      <td>-0.772709</td>\n",
              "      <td>0.642055</td>\n",
              "      <td>-0.823431</td>\n",
              "      <td>0.093461</td>\n",
              "    </tr>\n",
              "    <tr>\n",
              "      <th>28</th>\n",
              "      <td>A</td>\n",
              "      <td>C</td>\n",
              "      <td>K</td>\n",
              "      <td>-1.198301</td>\n",
              "      <td>0.426147</td>\n",
              "      <td>-0.239669</td>\n",
              "      <td>-0.354824</td>\n",
              "    </tr>\n",
              "    <tr>\n",
              "      <th>36</th>\n",
              "      <td>A</td>\n",
              "      <td>C</td>\n",
              "      <td>K</td>\n",
              "      <td>-0.403366</td>\n",
              "      <td>-1.370948</td>\n",
              "      <td>0.553856</td>\n",
              "      <td>-0.269293</td>\n",
              "    </tr>\n",
              "    <tr>\n",
              "      <th>2</th>\n",
              "      <td>A</td>\n",
              "      <td>E</td>\n",
              "      <td>I</td>\n",
              "      <td>-0.390900</td>\n",
              "      <td>1.660952</td>\n",
              "      <td>0.120747</td>\n",
              "      <td>0.134027</td>\n",
              "    </tr>\n",
              "    <tr>\n",
              "      <th>10</th>\n",
              "      <td>A</td>\n",
              "      <td>E</td>\n",
              "      <td>I</td>\n",
              "      <td>-1.294085</td>\n",
              "      <td>1.150206</td>\n",
              "      <td>-0.997321</td>\n",
              "      <td>-1.048992</td>\n",
              "    </tr>\n",
              "    <tr>\n",
              "      <th>18</th>\n",
              "      <td>A</td>\n",
              "      <td>E</td>\n",
              "      <td>I</td>\n",
              "      <td>1.495644</td>\n",
              "      <td>0.379401</td>\n",
              "      <td>1.518866</td>\n",
              "      <td>-0.391620</td>\n",
              "    </tr>\n",
              "    <tr>\n",
              "      <th>26</th>\n",
              "      <td>A</td>\n",
              "      <td>E</td>\n",
              "      <td>I</td>\n",
              "      <td>0.045490</td>\n",
              "      <td>0.179549</td>\n",
              "      <td>0.456271</td>\n",
              "      <td>-0.548920</td>\n",
              "    </tr>\n",
              "    <tr>\n",
              "      <th>34</th>\n",
              "      <td>A</td>\n",
              "      <td>E</td>\n",
              "      <td>I</td>\n",
              "      <td>-2.123100</td>\n",
              "      <td>1.012739</td>\n",
              "      <td>-1.019655</td>\n",
              "      <td>0.197019</td>\n",
              "    </tr>\n",
              "    <tr>\n",
              "      <th>6</th>\n",
              "      <td>A</td>\n",
              "      <td>E</td>\n",
              "      <td>M</td>\n",
              "      <td>2.392365</td>\n",
              "      <td>-0.732462</td>\n",
              "      <td>0.812341</td>\n",
              "      <td>1.523664</td>\n",
              "    </tr>\n",
              "    <tr>\n",
              "      <th>14</th>\n",
              "      <td>A</td>\n",
              "      <td>E</td>\n",
              "      <td>M</td>\n",
              "      <td>0.029683</td>\n",
              "      <td>-0.335011</td>\n",
              "      <td>0.760949</td>\n",
              "      <td>0.403086</td>\n",
              "    </tr>\n",
              "    <tr>\n",
              "      <th>22</th>\n",
              "      <td>A</td>\n",
              "      <td>E</td>\n",
              "      <td>M</td>\n",
              "      <td>0.314272</td>\n",
              "      <td>0.712265</td>\n",
              "      <td>1.267299</td>\n",
              "      <td>1.395353</td>\n",
              "    </tr>\n",
              "    <tr>\n",
              "      <th>30</th>\n",
              "      <td>A</td>\n",
              "      <td>E</td>\n",
              "      <td>M</td>\n",
              "      <td>0.468439</td>\n",
              "      <td>-0.427680</td>\n",
              "      <td>0.253816</td>\n",
              "      <td>0.177192</td>\n",
              "    </tr>\n",
              "    <tr>\n",
              "      <th>38</th>\n",
              "      <td>A</td>\n",
              "      <td>E</td>\n",
              "      <td>M</td>\n",
              "      <td>-0.837517</td>\n",
              "      <td>1.959411</td>\n",
              "      <td>1.377257</td>\n",
              "      <td>-0.341262</td>\n",
              "    </tr>\n",
              "    <tr>\n",
              "      <th>1</th>\n",
              "      <td>B</td>\n",
              "      <td>D</td>\n",
              "      <td>H</td>\n",
              "      <td>-1.727669</td>\n",
              "      <td>-0.688869</td>\n",
              "      <td>-0.552108</td>\n",
              "      <td>-0.193964</td>\n",
              "    </tr>\n",
              "    <tr>\n",
              "      <th>9</th>\n",
              "      <td>B</td>\n",
              "      <td>D</td>\n",
              "      <td>H</td>\n",
              "      <td>2.238143</td>\n",
              "      <td>0.164441</td>\n",
              "      <td>-0.563924</td>\n",
              "      <td>-0.274397</td>\n",
              "    </tr>\n",
              "    <tr>\n",
              "      <th>17</th>\n",
              "      <td>B</td>\n",
              "      <td>D</td>\n",
              "      <td>H</td>\n",
              "      <td>1.754886</td>\n",
              "      <td>-1.363472</td>\n",
              "      <td>1.805970</td>\n",
              "      <td>-0.611225</td>\n",
              "    </tr>\n",
              "    <tr>\n",
              "      <th>25</th>\n",
              "      <td>B</td>\n",
              "      <td>D</td>\n",
              "      <td>H</td>\n",
              "      <td>0.807237</td>\n",
              "      <td>0.034142</td>\n",
              "      <td>-0.212080</td>\n",
              "      <td>-2.557055</td>\n",
              "    </tr>\n",
              "    <tr>\n",
              "      <th>33</th>\n",
              "      <td>B</td>\n",
              "      <td>D</td>\n",
              "      <td>H</td>\n",
              "      <td>-1.097203</td>\n",
              "      <td>0.501249</td>\n",
              "      <td>-1.876869</td>\n",
              "      <td>-0.126118</td>\n",
              "    </tr>\n",
              "    <tr>\n",
              "      <th>5</th>\n",
              "      <td>B</td>\n",
              "      <td>D</td>\n",
              "      <td>L</td>\n",
              "      <td>-0.011830</td>\n",
              "      <td>-1.085902</td>\n",
              "      <td>-0.270232</td>\n",
              "      <td>-0.898423</td>\n",
              "    </tr>\n",
              "    <tr>\n",
              "      <th>13</th>\n",
              "      <td>B</td>\n",
              "      <td>D</td>\n",
              "      <td>L</td>\n",
              "      <td>-0.798063</td>\n",
              "      <td>1.177862</td>\n",
              "      <td>0.321687</td>\n",
              "      <td>0.072907</td>\n",
              "    </tr>\n",
              "    <tr>\n",
              "      <th>21</th>\n",
              "      <td>B</td>\n",
              "      <td>D</td>\n",
              "      <td>L</td>\n",
              "      <td>0.794863</td>\n",
              "      <td>-1.977888</td>\n",
              "      <td>0.130215</td>\n",
              "      <td>1.459589</td>\n",
              "    </tr>\n",
              "    <tr>\n",
              "      <th>29</th>\n",
              "      <td>B</td>\n",
              "      <td>D</td>\n",
              "      <td>L</td>\n",
              "      <td>0.199524</td>\n",
              "      <td>-1.605410</td>\n",
              "      <td>0.143308</td>\n",
              "      <td>0.391584</td>\n",
              "    </tr>\n",
              "    <tr>\n",
              "      <th>37</th>\n",
              "      <td>B</td>\n",
              "      <td>D</td>\n",
              "      <td>L</td>\n",
              "      <td>-0.126030</td>\n",
              "      <td>-0.332475</td>\n",
              "      <td>-0.530675</td>\n",
              "      <td>-0.110851</td>\n",
              "    </tr>\n",
              "    <tr>\n",
              "      <th>3</th>\n",
              "      <td>B</td>\n",
              "      <td>F</td>\n",
              "      <td>J</td>\n",
              "      <td>0.573806</td>\n",
              "      <td>0.807308</td>\n",
              "      <td>0.748216</td>\n",
              "      <td>0.704474</td>\n",
              "    </tr>\n",
              "    <tr>\n",
              "      <th>11</th>\n",
              "      <td>B</td>\n",
              "      <td>F</td>\n",
              "      <td>J</td>\n",
              "      <td>-1.038788</td>\n",
              "      <td>-1.267352</td>\n",
              "      <td>-1.100043</td>\n",
              "      <td>-0.075121</td>\n",
              "    </tr>\n",
              "    <tr>\n",
              "      <th>19</th>\n",
              "      <td>B</td>\n",
              "      <td>F</td>\n",
              "      <td>J</td>\n",
              "      <td>1.069393</td>\n",
              "      <td>-0.379176</td>\n",
              "      <td>-0.354000</td>\n",
              "      <td>0.139978</td>\n",
              "    </tr>\n",
              "    <tr>\n",
              "      <th>27</th>\n",
              "      <td>B</td>\n",
              "      <td>F</td>\n",
              "      <td>J</td>\n",
              "      <td>-0.233092</td>\n",
              "      <td>-1.861976</td>\n",
              "      <td>1.544544</td>\n",
              "      <td>-0.978058</td>\n",
              "    </tr>\n",
              "    <tr>\n",
              "      <th>35</th>\n",
              "      <td>B</td>\n",
              "      <td>F</td>\n",
              "      <td>J</td>\n",
              "      <td>1.039727</td>\n",
              "      <td>0.278741</td>\n",
              "      <td>0.167942</td>\n",
              "      <td>-3.231055</td>\n",
              "    </tr>\n",
              "    <tr>\n",
              "      <th>7</th>\n",
              "      <td>B</td>\n",
              "      <td>F</td>\n",
              "      <td>N</td>\n",
              "      <td>0.412912</td>\n",
              "      <td>-1.212523</td>\n",
              "      <td>0.499740</td>\n",
              "      <td>-1.095026</td>\n",
              "    </tr>\n",
              "    <tr>\n",
              "      <th>15</th>\n",
              "      <td>B</td>\n",
              "      <td>F</td>\n",
              "      <td>N</td>\n",
              "      <td>1.069316</td>\n",
              "      <td>1.031114</td>\n",
              "      <td>0.323469</td>\n",
              "      <td>1.471929</td>\n",
              "    </tr>\n",
              "    <tr>\n",
              "      <th>23</th>\n",
              "      <td>B</td>\n",
              "      <td>F</td>\n",
              "      <td>N</td>\n",
              "      <td>-1.326265</td>\n",
              "      <td>2.598304</td>\n",
              "      <td>0.332765</td>\n",
              "      <td>-0.358936</td>\n",
              "    </tr>\n",
              "    <tr>\n",
              "      <th>31</th>\n",
              "      <td>B</td>\n",
              "      <td>F</td>\n",
              "      <td>N</td>\n",
              "      <td>-0.831155</td>\n",
              "      <td>1.242870</td>\n",
              "      <td>0.283725</td>\n",
              "      <td>-0.029968</td>\n",
              "    </tr>\n",
              "    <tr>\n",
              "      <th>39</th>\n",
              "      <td>B</td>\n",
              "      <td>F</td>\n",
              "      <td>N</td>\n",
              "      <td>-1.605963</td>\n",
              "      <td>-2.025046</td>\n",
              "      <td>-0.143176</td>\n",
              "      <td>-0.217946</td>\n",
              "    </tr>\n",
              "  </tbody>\n",
              "</table>\n",
              "</div>"
            ],
            "text/plain": [
              "   group_1 group_2 group_3     col_1     col_2     col_3     col_4\n",
              "0        A       C       G -0.805367  1.255237 -0.275786  0.020316\n",
              "8        A       C       G  0.978736  2.087113  0.474347  0.079227\n",
              "16       A       C       G  0.890706 -1.084568 -0.548955  0.307384\n",
              "24       A       C       G  1.417299 -0.024626  0.556549 -0.548642\n",
              "32       A       C       G  1.162204 -0.735217 -1.411889  0.199582\n",
              "4        A       C       K  0.338589 -0.314758  1.608691  0.665653\n",
              "12       A       C       K  1.743712  0.181035 -0.756437 -0.740814\n",
              "20       A       C       K -0.772709  0.642055 -0.823431  0.093461\n",
              "28       A       C       K -1.198301  0.426147 -0.239669 -0.354824\n",
              "36       A       C       K -0.403366 -1.370948  0.553856 -0.269293\n",
              "2        A       E       I -0.390900  1.660952  0.120747  0.134027\n",
              "10       A       E       I -1.294085  1.150206 -0.997321 -1.048992\n",
              "18       A       E       I  1.495644  0.379401  1.518866 -0.391620\n",
              "26       A       E       I  0.045490  0.179549  0.456271 -0.548920\n",
              "34       A       E       I -2.123100  1.012739 -1.019655  0.197019\n",
              "6        A       E       M  2.392365 -0.732462  0.812341  1.523664\n",
              "14       A       E       M  0.029683 -0.335011  0.760949  0.403086\n",
              "22       A       E       M  0.314272  0.712265  1.267299  1.395353\n",
              "30       A       E       M  0.468439 -0.427680  0.253816  0.177192\n",
              "38       A       E       M -0.837517  1.959411  1.377257 -0.341262\n",
              "1        B       D       H -1.727669 -0.688869 -0.552108 -0.193964\n",
              "9        B       D       H  2.238143  0.164441 -0.563924 -0.274397\n",
              "17       B       D       H  1.754886 -1.363472  1.805970 -0.611225\n",
              "25       B       D       H  0.807237  0.034142 -0.212080 -2.557055\n",
              "33       B       D       H -1.097203  0.501249 -1.876869 -0.126118\n",
              "5        B       D       L -0.011830 -1.085902 -0.270232 -0.898423\n",
              "13       B       D       L -0.798063  1.177862  0.321687  0.072907\n",
              "21       B       D       L  0.794863 -1.977888  0.130215  1.459589\n",
              "29       B       D       L  0.199524 -1.605410  0.143308  0.391584\n",
              "37       B       D       L -0.126030 -0.332475 -0.530675 -0.110851\n",
              "3        B       F       J  0.573806  0.807308  0.748216  0.704474\n",
              "11       B       F       J -1.038788 -1.267352 -1.100043 -0.075121\n",
              "19       B       F       J  1.069393 -0.379176 -0.354000  0.139978\n",
              "27       B       F       J -0.233092 -1.861976  1.544544 -0.978058\n",
              "35       B       F       J  1.039727  0.278741  0.167942 -3.231055\n",
              "7        B       F       N  0.412912 -1.212523  0.499740 -1.095026\n",
              "15       B       F       N  1.069316  1.031114  0.323469  1.471929\n",
              "23       B       F       N -1.326265  2.598304  0.332765 -0.358936\n",
              "31       B       F       N -0.831155  1.242870  0.283725 -0.029968\n",
              "39       B       F       N -1.605963 -2.025046 -0.143176 -0.217946"
            ]
          },
          "metadata": {
            "tags": []
          },
          "execution_count": 44
        }
      ]
    },
    {
      "cell_type": "code",
      "metadata": {
        "id": "q0d-BCcJQ3Tb",
        "colab_type": "code",
        "colab": {}
      },
      "source": [
        "# a user-defined function of correlation coefficients with paired variables by groups\n",
        "def corr_group(df, var_1, var_2, group_list):\n",
        "    # correlaiton fuction with 2 variables\n",
        "    corr_func = lambda g: g[var_1].corr(g[var_2])    \n",
        "\n",
        "    # GroupBy operator\n",
        "    grouped = df.groupby(group_list)    \n",
        "\n",
        "    # calculate correlation coefficient by Group\n",
        "    corr_coef_df = pd.DataFrame(grouped.apply(corr_func), columns=['corr_coef'])    \n",
        "\n",
        "    # add var_1, var_2 column names\n",
        "    corr_coef_df['var1'] = var_1\n",
        "    corr_coef_df['var2'] = var_2    \n",
        "\n",
        "    return corr_coef_df"
      ],
      "execution_count": 0,
      "outputs": []
    },
    {
      "cell_type": "code",
      "metadata": {
        "id": "f63GHuWURhUM",
        "colab_type": "code",
        "outputId": "19162507-16a5-40e0-f1a3-eb4b9aa6fe62",
        "colab": {
          "base_uri": "https://localhost:8080/",
          "height": 1000
        }
      },
      "source": [
        "# blank DataFrame\n",
        "corr_coef_df_all = pd.DataFrame() \n",
        "\n",
        "# group by list\n",
        "group_list = ['group_1', 'group_2', 'group_3']\n",
        "\n",
        "# column lists for correlation matrix\n",
        "col_list = ['col_1', 'col_2', 'col_3', 'col_4']\n",
        "\n",
        "# get all cominations of col_list with length 2\n",
        "from itertools import combinations\n",
        "comb = combinations(col_list, 2)\n",
        "\n",
        "# calculate correlation coefficients pair-wise\n",
        "for var in list(comb):\n",
        "    corr_tmp = corr_group(df, var[0], var[1], group_list)\n",
        "    corr_coef_df_all = corr_coef_df_all.append(corr_tmp)\n",
        "\n",
        "# result\n",
        "corr_coef_df_all[['var1', 'var2', 'corr_coef']]"
      ],
      "execution_count": 0,
      "outputs": [
        {
          "output_type": "execute_result",
          "data": {
            "text/html": [
              "<div>\n",
              "<style scoped>\n",
              "    .dataframe tbody tr th:only-of-type {\n",
              "        vertical-align: middle;\n",
              "    }\n",
              "\n",
              "    .dataframe tbody tr th {\n",
              "        vertical-align: top;\n",
              "    }\n",
              "\n",
              "    .dataframe thead th {\n",
              "        text-align: right;\n",
              "    }\n",
              "</style>\n",
              "<table border=\"1\" class=\"dataframe\">\n",
              "  <thead>\n",
              "    <tr style=\"text-align: right;\">\n",
              "      <th></th>\n",
              "      <th></th>\n",
              "      <th></th>\n",
              "      <th>var1</th>\n",
              "      <th>var2</th>\n",
              "      <th>corr_coef</th>\n",
              "    </tr>\n",
              "    <tr>\n",
              "      <th>group_1</th>\n",
              "      <th>group_2</th>\n",
              "      <th>group_3</th>\n",
              "      <th></th>\n",
              "      <th></th>\n",
              "      <th></th>\n",
              "    </tr>\n",
              "  </thead>\n",
              "  <tbody>\n",
              "    <tr>\n",
              "      <th rowspan=\"4\" valign=\"top\">A</th>\n",
              "      <th rowspan=\"2\" valign=\"top\">C</th>\n",
              "      <th>G</th>\n",
              "      <td>col_1</td>\n",
              "      <td>col_2</td>\n",
              "      <td>-0.405093</td>\n",
              "    </tr>\n",
              "    <tr>\n",
              "      <th>K</th>\n",
              "      <td>col_1</td>\n",
              "      <td>col_2</td>\n",
              "      <td>-0.073014</td>\n",
              "    </tr>\n",
              "    <tr>\n",
              "      <th rowspan=\"2\" valign=\"top\">E</th>\n",
              "      <th>I</th>\n",
              "      <td>col_1</td>\n",
              "      <td>col_2</td>\n",
              "      <td>-0.523021</td>\n",
              "    </tr>\n",
              "    <tr>\n",
              "      <th>M</th>\n",
              "      <td>col_1</td>\n",
              "      <td>col_2</td>\n",
              "      <td>-0.749885</td>\n",
              "    </tr>\n",
              "    <tr>\n",
              "      <th rowspan=\"4\" valign=\"top\">B</th>\n",
              "      <th rowspan=\"2\" valign=\"top\">D</th>\n",
              "      <th>H</th>\n",
              "      <td>col_1</td>\n",
              "      <td>col_2</td>\n",
              "      <td>-0.157439</td>\n",
              "    </tr>\n",
              "    <tr>\n",
              "      <th>L</th>\n",
              "      <td>col_1</td>\n",
              "      <td>col_2</td>\n",
              "      <td>-0.950722</td>\n",
              "    </tr>\n",
              "    <tr>\n",
              "      <th rowspan=\"2\" valign=\"top\">F</th>\n",
              "      <th>J</th>\n",
              "      <td>col_1</td>\n",
              "      <td>col_2</td>\n",
              "      <td>0.702093</td>\n",
              "    </tr>\n",
              "    <tr>\n",
              "      <th>N</th>\n",
              "      <td>col_1</td>\n",
              "      <td>col_2</td>\n",
              "      <td>0.013829</td>\n",
              "    </tr>\n",
              "    <tr>\n",
              "      <th rowspan=\"4\" valign=\"top\">A</th>\n",
              "      <th rowspan=\"2\" valign=\"top\">C</th>\n",
              "      <th>G</th>\n",
              "      <td>col_1</td>\n",
              "      <td>col_3</td>\n",
              "      <td>0.078603</td>\n",
              "    </tr>\n",
              "    <tr>\n",
              "      <th>K</th>\n",
              "      <td>col_1</td>\n",
              "      <td>col_3</td>\n",
              "      <td>-0.011486</td>\n",
              "    </tr>\n",
              "    <tr>\n",
              "      <th rowspan=\"2\" valign=\"top\">E</th>\n",
              "      <th>I</th>\n",
              "      <td>col_1</td>\n",
              "      <td>col_3</td>\n",
              "      <td>0.977604</td>\n",
              "    </tr>\n",
              "    <tr>\n",
              "      <th>M</th>\n",
              "      <td>col_1</td>\n",
              "      <td>col_3</td>\n",
              "      <td>-0.369609</td>\n",
              "    </tr>\n",
              "    <tr>\n",
              "      <th rowspan=\"4\" valign=\"top\">B</th>\n",
              "      <th rowspan=\"2\" valign=\"top\">D</th>\n",
              "      <th>H</th>\n",
              "      <td>col_1</td>\n",
              "      <td>col_3</td>\n",
              "      <td>0.572452</td>\n",
              "    </tr>\n",
              "    <tr>\n",
              "      <th>L</th>\n",
              "      <td>col_1</td>\n",
              "      <td>col_3</td>\n",
              "      <td>-0.064934</td>\n",
              "    </tr>\n",
              "    <tr>\n",
              "      <th rowspan=\"2\" valign=\"top\">F</th>\n",
              "      <th>J</th>\n",
              "      <td>col_1</td>\n",
              "      <td>col_3</td>\n",
              "      <td>0.196997</td>\n",
              "    </tr>\n",
              "    <tr>\n",
              "      <th>N</th>\n",
              "      <td>col_1</td>\n",
              "      <td>col_3</td>\n",
              "      <td>0.630869</td>\n",
              "    </tr>\n",
              "    <tr>\n",
              "      <th rowspan=\"4\" valign=\"top\">A</th>\n",
              "      <th rowspan=\"2\" valign=\"top\">C</th>\n",
              "      <th>G</th>\n",
              "      <td>col_1</td>\n",
              "      <td>col_4</td>\n",
              "      <td>-0.216008</td>\n",
              "    </tr>\n",
              "    <tr>\n",
              "      <th>K</th>\n",
              "      <td>col_1</td>\n",
              "      <td>col_4</td>\n",
              "      <td>-0.261265</td>\n",
              "    </tr>\n",
              "    <tr>\n",
              "      <th rowspan=\"2\" valign=\"top\">E</th>\n",
              "      <th>I</th>\n",
              "      <td>col_1</td>\n",
              "      <td>col_4</td>\n",
              "      <td>-0.168106</td>\n",
              "    </tr>\n",
              "    <tr>\n",
              "      <th>M</th>\n",
              "      <td>col_1</td>\n",
              "      <td>col_4</td>\n",
              "      <td>0.778924</td>\n",
              "    </tr>\n",
              "    <tr>\n",
              "      <th rowspan=\"4\" valign=\"top\">B</th>\n",
              "      <th rowspan=\"2\" valign=\"top\">D</th>\n",
              "      <th>H</th>\n",
              "      <td>col_1</td>\n",
              "      <td>col_4</td>\n",
              "      <td>-0.250431</td>\n",
              "    </tr>\n",
              "    <tr>\n",
              "      <th>L</th>\n",
              "      <td>col_1</td>\n",
              "      <td>col_4</td>\n",
              "      <td>0.605109</td>\n",
              "    </tr>\n",
              "    <tr>\n",
              "      <th rowspan=\"2\" valign=\"top\">F</th>\n",
              "      <th>J</th>\n",
              "      <td>col_1</td>\n",
              "      <td>col_4</td>\n",
              "      <td>-0.272749</td>\n",
              "    </tr>\n",
              "    <tr>\n",
              "      <th>N</th>\n",
              "      <td>col_1</td>\n",
              "      <td>col_4</td>\n",
              "      <td>0.431610</td>\n",
              "    </tr>\n",
              "    <tr>\n",
              "      <th rowspan=\"4\" valign=\"top\">A</th>\n",
              "      <th rowspan=\"2\" valign=\"top\">C</th>\n",
              "      <th>G</th>\n",
              "      <td>col_2</td>\n",
              "      <td>col_3</td>\n",
              "      <td>0.604916</td>\n",
              "    </tr>\n",
              "    <tr>\n",
              "      <th>K</th>\n",
              "      <td>col_2</td>\n",
              "      <td>col_3</td>\n",
              "      <td>-0.611702</td>\n",
              "    </tr>\n",
              "    <tr>\n",
              "      <th rowspan=\"2\" valign=\"top\">E</th>\n",
              "      <th>I</th>\n",
              "      <td>col_2</td>\n",
              "      <td>col_3</td>\n",
              "      <td>-0.542032</td>\n",
              "    </tr>\n",
              "    <tr>\n",
              "      <th>M</th>\n",
              "      <td>col_2</td>\n",
              "      <td>col_3</td>\n",
              "      <td>0.799707</td>\n",
              "    </tr>\n",
              "    <tr>\n",
              "      <th rowspan=\"4\" valign=\"top\">B</th>\n",
              "      <th rowspan=\"2\" valign=\"top\">D</th>\n",
              "      <th>H</th>\n",
              "      <td>col_2</td>\n",
              "      <td>col_3</td>\n",
              "      <td>-0.878989</td>\n",
              "    </tr>\n",
              "    <tr>\n",
              "      <th>L</th>\n",
              "      <td>col_2</td>\n",
              "      <td>col_3</td>\n",
              "      <td>0.116903</td>\n",
              "    </tr>\n",
              "    <tr>\n",
              "      <th rowspan=\"2\" valign=\"top\">F</th>\n",
              "      <th>J</th>\n",
              "      <td>col_2</td>\n",
              "      <td>col_3</td>\n",
              "      <td>-0.047202</td>\n",
              "    </tr>\n",
              "    <tr>\n",
              "      <th>N</th>\n",
              "      <td>col_2</td>\n",
              "      <td>col_3</td>\n",
              "      <td>0.445727</td>\n",
              "    </tr>\n",
              "    <tr>\n",
              "      <th rowspan=\"4\" valign=\"top\">A</th>\n",
              "      <th rowspan=\"2\" valign=\"top\">C</th>\n",
              "      <th>G</th>\n",
              "      <td>col_2</td>\n",
              "      <td>col_4</td>\n",
              "      <td>-0.164409</td>\n",
              "    </tr>\n",
              "    <tr>\n",
              "      <th>K</th>\n",
              "      <td>col_2</td>\n",
              "      <td>col_4</td>\n",
              "      <td>-0.069728</td>\n",
              "    </tr>\n",
              "    <tr>\n",
              "      <th rowspan=\"2\" valign=\"top\">E</th>\n",
              "      <th>I</th>\n",
              "      <td>col_2</td>\n",
              "      <td>col_4</td>\n",
              "      <td>0.341272</td>\n",
              "    </tr>\n",
              "    <tr>\n",
              "      <th>M</th>\n",
              "      <td>col_2</td>\n",
              "      <td>col_4</td>\n",
              "      <td>-0.490237</td>\n",
              "    </tr>\n",
              "    <tr>\n",
              "      <th rowspan=\"4\" valign=\"top\">B</th>\n",
              "      <th rowspan=\"2\" valign=\"top\">D</th>\n",
              "      <th>H</th>\n",
              "      <td>col_2</td>\n",
              "      <td>col_4</td>\n",
              "      <td>-0.080138</td>\n",
              "    </tr>\n",
              "    <tr>\n",
              "      <th>L</th>\n",
              "      <td>col_2</td>\n",
              "      <td>col_4</td>\n",
              "      <td>-0.400869</td>\n",
              "    </tr>\n",
              "    <tr>\n",
              "      <th rowspan=\"2\" valign=\"top\">F</th>\n",
              "      <th>J</th>\n",
              "      <td>col_2</td>\n",
              "      <td>col_4</td>\n",
              "      <td>-0.020024</td>\n",
              "    </tr>\n",
              "    <tr>\n",
              "      <th>N</th>\n",
              "      <td>col_2</td>\n",
              "      <td>col_4</td>\n",
              "      <td>0.335459</td>\n",
              "    </tr>\n",
              "    <tr>\n",
              "      <th rowspan=\"4\" valign=\"top\">A</th>\n",
              "      <th rowspan=\"2\" valign=\"top\">C</th>\n",
              "      <th>G</th>\n",
              "      <td>col_3</td>\n",
              "      <td>col_4</td>\n",
              "      <td>-0.660862</td>\n",
              "    </tr>\n",
              "    <tr>\n",
              "      <th>K</th>\n",
              "      <td>col_3</td>\n",
              "      <td>col_4</td>\n",
              "      <td>0.706232</td>\n",
              "    </tr>\n",
              "    <tr>\n",
              "      <th rowspan=\"2\" valign=\"top\">E</th>\n",
              "      <th>I</th>\n",
              "      <td>col_3</td>\n",
              "      <td>col_4</td>\n",
              "      <td>0.019252</td>\n",
              "    </tr>\n",
              "    <tr>\n",
              "      <th>M</th>\n",
              "      <td>col_3</td>\n",
              "      <td>col_4</td>\n",
              "      <td>0.043919</td>\n",
              "    </tr>\n",
              "    <tr>\n",
              "      <th rowspan=\"4\" valign=\"top\">B</th>\n",
              "      <th rowspan=\"2\" valign=\"top\">D</th>\n",
              "      <th>H</th>\n",
              "      <td>col_3</td>\n",
              "      <td>col_4</td>\n",
              "      <td>-0.204683</td>\n",
              "    </tr>\n",
              "    <tr>\n",
              "      <th>L</th>\n",
              "      <td>col_3</td>\n",
              "      <td>col_4</td>\n",
              "      <td>0.508671</td>\n",
              "    </tr>\n",
              "    <tr>\n",
              "      <th rowspan=\"2\" valign=\"top\">F</th>\n",
              "      <th>J</th>\n",
              "      <td>col_3</td>\n",
              "      <td>col_4</td>\n",
              "      <td>-0.127830</td>\n",
              "    </tr>\n",
              "    <tr>\n",
              "      <th>N</th>\n",
              "      <td>col_3</td>\n",
              "      <td>col_4</td>\n",
              "      <td>-0.120086</td>\n",
              "    </tr>\n",
              "  </tbody>\n",
              "</table>\n",
              "</div>"
            ],
            "text/plain": [
              "                          var1   var2  corr_coef\n",
              "group_1 group_2 group_3                         \n",
              "A       C       G        col_1  col_2  -0.405093\n",
              "                K        col_1  col_2  -0.073014\n",
              "        E       I        col_1  col_2  -0.523021\n",
              "                M        col_1  col_2  -0.749885\n",
              "B       D       H        col_1  col_2  -0.157439\n",
              "                L        col_1  col_2  -0.950722\n",
              "        F       J        col_1  col_2   0.702093\n",
              "                N        col_1  col_2   0.013829\n",
              "A       C       G        col_1  col_3   0.078603\n",
              "                K        col_1  col_3  -0.011486\n",
              "        E       I        col_1  col_3   0.977604\n",
              "                M        col_1  col_3  -0.369609\n",
              "B       D       H        col_1  col_3   0.572452\n",
              "                L        col_1  col_3  -0.064934\n",
              "        F       J        col_1  col_3   0.196997\n",
              "                N        col_1  col_3   0.630869\n",
              "A       C       G        col_1  col_4  -0.216008\n",
              "                K        col_1  col_4  -0.261265\n",
              "        E       I        col_1  col_4  -0.168106\n",
              "                M        col_1  col_4   0.778924\n",
              "B       D       H        col_1  col_4  -0.250431\n",
              "                L        col_1  col_4   0.605109\n",
              "        F       J        col_1  col_4  -0.272749\n",
              "                N        col_1  col_4   0.431610\n",
              "A       C       G        col_2  col_3   0.604916\n",
              "                K        col_2  col_3  -0.611702\n",
              "        E       I        col_2  col_3  -0.542032\n",
              "                M        col_2  col_3   0.799707\n",
              "B       D       H        col_2  col_3  -0.878989\n",
              "                L        col_2  col_3   0.116903\n",
              "        F       J        col_2  col_3  -0.047202\n",
              "                N        col_2  col_3   0.445727\n",
              "A       C       G        col_2  col_4  -0.164409\n",
              "                K        col_2  col_4  -0.069728\n",
              "        E       I        col_2  col_4   0.341272\n",
              "                M        col_2  col_4  -0.490237\n",
              "B       D       H        col_2  col_4  -0.080138\n",
              "                L        col_2  col_4  -0.400869\n",
              "        F       J        col_2  col_4  -0.020024\n",
              "                N        col_2  col_4   0.335459\n",
              "A       C       G        col_3  col_4  -0.660862\n",
              "                K        col_3  col_4   0.706232\n",
              "        E       I        col_3  col_4   0.019252\n",
              "                M        col_3  col_4   0.043919\n",
              "B       D       H        col_3  col_4  -0.204683\n",
              "                L        col_3  col_4   0.508671\n",
              "        F       J        col_3  col_4  -0.127830\n",
              "                N        col_3  col_4  -0.120086"
            ]
          },
          "metadata": {
            "tags": []
          },
          "execution_count": 47
        }
      ]
    },
    {
      "cell_type": "code",
      "metadata": {
        "id": "Z1ODCNeJRwxo",
        "colab_type": "code",
        "colab": {}
      },
      "source": [
        ""
      ],
      "execution_count": 0,
      "outputs": []
    }
  ]
}